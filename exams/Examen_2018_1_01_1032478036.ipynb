{
 "cells": [
  {
   "cell_type": "markdown",
   "metadata": {},
   "source": [
    "## Primer Examen 10%\n",
    "Un vehículo parte del reposo en un punto con una aceleración constante de $a_1$. 10 segundos después pasa por el mismo punto, y en la misma dirección, un segundo vehículo con una rapidez de 10 m/s y con aceleración constante $a_2$. Calcule el punto de encuentro: \n",
    "1. Gráficamente \n",
    "1. Encontrando las raíces del polinomio generado a partir de igualar las dos ecuaciones de movimiento.\n",
    "1. Grafique el polinomio generado\n",
    "\n",
    "_Ayuda:_\n",
    "La ecuación de movimiento para el movimiento uniformemente acelerado es:\n",
    "\\begin{align}\n",
    "x=x_0+v_0 (t-t_0)+\\tfrac{1}{2} a (t-t_0)^2\\,,\n",
    "\\end{align}\n",
    "donde\n",
    "* $x_0$ es la posición inicial\n",
    "* $v_0$ es la rapidez inicial\n",
    "* $t_0$ es el tiempo inicial\n",
    "\n",
    "Ejecute la siguiente celda para fijar los valores de las aceleraciones en su caso"
   ]
  },
  {
   "cell_type": "code",
   "execution_count": 3,
   "metadata": {},
   "outputs": [
    {
     "name": "stdout",
     "output_type": "stream",
     "text": [
      "Populating the interactive namespace from numpy and matplotlib\n",
      "a1=3 m/s² and a2=7 m/s²\n"
     ]
    }
   ],
   "source": [
    "%pylab inline\n",
    "import numpy as np\n",
    "a1=np.random.choice([2,3,4])\n",
    "a2=a1+4\n",
    "print('a1={} m/s² and a2={} m/s²'.format(a1,a2))"
   ]
  },
  {
   "cell_type": "code",
   "execution_count": 4,
   "metadata": {},
   "outputs": [],
   "source": [
    "from scipy import optimize"
   ]
  },
  {
   "cell_type": "markdown",
   "metadata": {},
   "source": [
    "Se definen las ecuaciones de movimiento para cada vehiculo, teniendo en cuenta los valores de aceleracion, velocidad y timepo para cada caso"
   ]
  },
  {
   "cell_type": "code",
   "execution_count": 5,
   "metadata": {
    "collapsed": true
   },
   "outputs": [],
   "source": [
    "t=np.linspace(0,30,50)\n",
    "t2=np.linspace(10,30,50)\n",
    "a1=3. #aceleracion vehiculo 1\n",
    "a2=7. #aceleracion vehiculo 2\n",
    "x0=0. #posicion inicial vehiculo 1 y del vehiculo 2 despues de 10s. Este corresponde al origen del sistema de coordenadas\n",
    "v0=10. #velocidad inicial del vehiculo 2\n",
    "t0=10. #tiempo inicial vehiculo 2\n",
    "\n",
    "#Ecuacion de movimiento vehiculo 1\n",
    "def x1(t):\n",
    "    return x0+0.5*a1*t**2\n",
    "\n",
    "#Ecuacion de movimiento vehiculo 2\n",
    "def x2(t):\n",
    "    return x0+v0*(t-t0)+0.5*a2*(t-t0)**2\n"
   ]
  },
  {
   "cell_type": "markdown",
   "metadata": {},
   "source": [
    "## 1. Graficamente"
   ]
  },
  {
   "cell_type": "code",
   "execution_count": 6,
   "metadata": {},
   "outputs": [
    {
     "data": {
      "image/png": "[encoded data removed]",
      "text/plain": [
       "<matplotlib.figure.Figure at 0x7fb648360e48>"
      ]
     },
     "metadata": {},
     "output_type": "display_data"
    }
   ],
   "source": [
    "plt.plot(t,x1(t), linewidth=3, label=\"vehiculo 1\")\n",
    "plt.plot(t2,x2(t2), linewidth=3, label=\"vehiculo 2\")\n",
    "plt.legend()\n",
    "plt.xlabel(\"Tiempo[s]\")\n",
    "plt.ylabel(\"Posicion[m]\")\n",
    "plt.grid()"
   ]
  },
  {
   "cell_type": "markdown",
   "metadata": {},
   "source": [
    "De esta manera, graficamente el punto de encuentro se dara aproximadamente pasados 25 segundos y ambos tendran una posicion aproximada de 1km "
   ]
  },
  {
   "cell_type": "markdown",
   "metadata": {},
   "source": [
    "## 2. Raices del polinomio"
   ]
  },
  {
   "cell_type": "markdown",
   "metadata": {},
   "source": [
    "Se define el polinomio que resulta de igualar las dos ecuaciones de movimiento antes descritas"
   ]
  },
  {
   "cell_type": "code",
   "execution_count": 7,
   "metadata": {},
   "outputs": [],
   "source": [
    "def X(t):\n",
    "    return x1(t)-x2(t)\n",
    "tcomun=optimize.newton(X,20.) #Encuentra la raiz utilizando el metodo de Newton "
   ]
  },
  {
   "cell_type": "code",
   "execution_count": 8,
   "metadata": {},
   "outputs": [
    {
     "name": "stdout",
     "output_type": "stream",
     "text": [
      "El tiempo al que estaran en la misma posicion es t=25.000000000000004 s\n",
      "Los vehiculos se encuentran en x=937.5000000000003 m\n"
     ]
    }
   ],
   "source": [
    "print('El tiempo al que estaran en la misma posicion es t={} s'.format(tcomun))\n",
    "print('Los vehiculos se encuentran en x={} m'.format(x1(tcomun)))"
   ]
  },
  {
   "cell_type": "markdown",
   "metadata": {},
   "source": [
    "Evalua el tiempo encontrado en cada ecuacion de movimiento y verifica que en ese tiempo, ambos vehiculos tienen la misma posicion:"
   ]
  },
  {
   "cell_type": "code",
   "execution_count": 9,
   "metadata": {},
   "outputs": [
    {
     "data": {
      "text/plain": [
       "(937.5000000000003, 937.5000000000005)"
      ]
     },
     "execution_count": 9,
     "metadata": {},
     "output_type": "execute_result"
    }
   ],
   "source": [
    "x1(tcomun),x2(tcomun) "
   ]
  },
  {
   "cell_type": "markdown",
   "metadata": {},
   "source": [
    "## 3. Grafica del polinomio"
   ]
  },
  {
   "cell_type": "code",
   "execution_count": 10,
   "metadata": {},
   "outputs": [
    {
     "data": {
      "image/png": "[encoded data removed]",
      "text/plain": [
       "<matplotlib.figure.Figure at 0x7fb5f4fc42b0>"
      ]
     },
     "metadata": {},
     "output_type": "display_data"
    }
   ],
   "source": [
    "tc=np.linspace(10,30,50)\n",
    "plt.plot(tc,X(tc), linewidth=3, color=\"green\")\n",
    "plt.xlabel(\"Tiempo[s]\")\n",
    "plt.grid()"
   ]
  },
  {
   "cell_type": "markdown",
   "metadata": {},
   "source": [
    "Se grafica el polinomio resultante y se verifica que su raiz esta en 25"
   ]
  },
  {
   "cell_type": "code",
   "execution_count": null,
   "metadata": {
    "collapsed": true
   },
   "outputs": [],
   "source": []
  }
 ],
 "metadata": {
  "kernelspec": {
   "display_name": "Python 3",
   "language": "python",
   "name": "python3"
  },
  "language_info": {
   "codemirror_mode": {
    "name": "ipython",
    "version": 3
   },
   "file_extension": ".py",
   "mimetype": "text/x-python",
   "name": "python",
   "nbconvert_exporter": "python",
   "pygments_lexer": "ipython3",
   "version": "3.4.2"
  },
  "toc": {
   "colors": {
    "hover_highlight": "#DAA520",
    "running_highlight": "#FF0000",
    "selected_highlight": "#FFD700"
   },
   "moveMenuLeft": true,
   "nav_menu": {
    "height": "30px",
    "width": "252px"
   },
   "navigate_menu": true,
   "number_sections": true,
   "sideBar": true,
   "threshold": 4,
   "toc_cell": false,
   "toc_section_display": "block",
   "toc_window_display": false
  }
 },
 "nbformat": 4,
 "nbformat_minor": 2
}
