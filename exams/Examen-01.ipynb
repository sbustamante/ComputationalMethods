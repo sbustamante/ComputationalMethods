{
 "cells": [
  {
   "cell_type": "markdown",
   "metadata": {},
   "source": [
    "## Primer Examen 10%\n",
    "Un vehículo parte del reposo en un punto con una aceleración constante de $a_1$. 10 segundos despues parte del mismo punto un segundo vehículo con una rapidez de 10 m/s y con aceleración constante $a_2$. Cálcule el punto de encuentro \n",
    "1. Gráficamente \n",
    "1. Encontrando las raices del polinomio generado a partir de igualar las dos ecuaciones de movimiento.\n",
    "1. Grafique el polinomio generado\n",
    "\n",
    "_Ayuda:_\n",
    "La ecuación de movimiento para el movimiento uniformemente acelerado es:\n",
    "\\begin{align}\n",
    "x=x_0+v_0 (t-t_0)+\\tfrac{1}{2} a (t-t_0)^2\\,,\n",
    "\\end{align}\n",
    "donde\n",
    "* $x_0$ es la posición inicial\n",
    "* $v_0$ es la reapidez inicial\n",
    "* $t_0$ es el tiempo inicial\n",
    "\n",
    "Ejecute la siguiente celda para fijar los valores de las aceleraciones en su caso"
   ]
  },
  {
   "cell_type": "code",
   "execution_count": null,
   "metadata": {},
   "outputs": [],
   "source": [
    "%pylab inline\n",
    "import numpy as np\n",
    "a1=np.random.choice([2,3,4])\n",
    "a2=a1+4\n",
    "print('a1={} m/s² and a2={} m/s²'.format(a1,a2))"
   ]
  }
 ],
 "metadata": {
  "kernelspec": {
   "display_name": "Python 3",
   "language": "python",
   "name": "python3"
  },
  "language_info": {
   "codemirror_mode": {
    "name": "ipython",
    "version": 3
   },
   "file_extension": ".py",
   "mimetype": "text/x-python",
   "name": "python",
   "nbconvert_exporter": "python",
   "pygments_lexer": "ipython3",
   "version": "3.4.2"
  },
  "toc": {
   "colors": {
    "hover_highlight": "#DAA520",
    "running_highlight": "#FF0000",
    "selected_highlight": "#FFD700"
   },
   "moveMenuLeft": true,
   "nav_menu": {
    "height": "30px",
    "width": "252px"
   },
   "navigate_menu": true,
   "number_sections": true,
   "sideBar": true,
   "threshold": 4,
   "toc_cell": false,
   "toc_section_display": "block",
   "toc_window_display": false
  }
 },
 "nbformat": 4,
 "nbformat_minor": 2
}
