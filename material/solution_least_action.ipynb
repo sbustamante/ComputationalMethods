{
 "cells": [
  {
   "cell_type": "code",
   "execution_count": 1,
   "metadata": {},
   "outputs": [
    {
     "name": "stdout",
     "output_type": "stream",
     "text": [
      "Populating the interactive namespace from numpy and matplotlib\n"
     ]
    }
   ],
   "source": [
    "%pylab inline"
   ]
  },
  {
   "cell_type": "code",
   "execution_count": 6,
   "metadata": {
    "collapsed": true
   },
   "outputs": [],
   "source": [
    "import numpy as np\n",
    "import scipy.optimize \n",
    "import pandas as pd\n",
    "def S(x,tend=3.,m=0.2,xini=0.,xend=0.):\n",
    "    \"\"\"\n",
    "    Calculate the Action of an object of of mass 'm' throw vertically upward from \n",
    "       'xini', such that 'tend' seconds later the object return to a height 'xend'.\n",
    "       Delta t must be constant.\n",
    "       \n",
    "    The defaults units for S are J.s   \n",
    "    \"\"\"\n",
    "    g=9.8\n",
    "    t=float(tend)\n",
    "    Dt=t/x[:-1].size\n",
    "    x=np.asarray(x)\n",
    "    #Fix initial and final point\n",
    "    x[0]=xini\n",
    "    x[-1]=xend\n",
    "    return ((0.5*m*(x[1:]-x[:-1])**2/Dt**2-0.5*m*g*(x[1:]+x[:-1]))*Dt).sum()"
   ]
  },
  {
   "cell_type": "markdown",
   "metadata": {},
   "source": [
    "### Solution\n",
    "\\begin{align}\n",
    " x=&-\\frac{1}{2} g t^2+v_0 t \\,, & v=&-g t +v_0\n",
    "\\end{align}\n",
    "At maximum height $t=t_{\\text{end}}/2$ and\n",
    "\\begin{align}\n",
    " x_{\\text{max}}=&-\\frac{1}{2} g (t_{\\text{end}}/2)^2+v_0 \\frac{t_{\\text{end}}}{2} \\,, & 0=&-g \\frac{t_{\\text{end}}}{2} +v_0\n",
    "\\end{align}\n",
    "From the second equation $v_0=g t_{\\text{end}}/2=14.7$ m/s, and\n",
    "\\begin{align}\n",
    " x_{\\text{max}}=&-\\frac{1}{2} g (t_{\\text{end}}/2)^2+ g \\frac{t_{\\text{end}}}{2} \\frac{t_{\\text{end}}}{2} \\nonumber\\\\\n",
    " =&g\\frac{ t_{\\text{end}}^2  }{8}=11.025\\ \\text{m}\\,.\n",
    "\\end{align}"
   ]
  },
  {
   "cell_type": "code",
   "execution_count": 4,
   "metadata": {},
   "outputs": [
    {
     "name": "stdout",
     "output_type": "stream",
     "text": [
      "- g t²/2 + v0 t=\n",
      "      2\n",
      "-4.9 t + 14.7 t + 8.205e-15\n"
     ]
    }
   ],
   "source": [
    "df=pd.DataFrame({'t':[0.,1.5,3.],'x':[0.,11.025,0.]})\n",
    "\n",
    "coeffs=np.polyfit(df.t,df.x,2)\n",
    "P=np.poly1d(coeffs,variable='t')\n",
    "print(\"- g t²/2 + v0 t=\")\n",
    "print(P)"
   ]
  },
  {
   "cell_type": "code",
   "execution_count": 7,
   "metadata": {},
   "outputs": [
    {
     "data": {
      "text/plain": [
       "<matplotlib.text.Text at 0x7f4329cd6fd0>"
      ]
     },
     "execution_count": 7,
     "metadata": {},
     "output_type": "execute_result"
    },
    {
     "data": {
      "image/png": "[encoded data removed]",
      "text/plain": [
       "<matplotlib.figure.Figure at 0x7f4334924518>"
      ]
     },
     "metadata": {},
     "output_type": "display_data"
    }
   ],
   "source": [
    "t=linspace(0,3,50)\n",
    "xmax=[6,11.025,15]\n",
    "ls=['r--','k-','b-.']\n",
    "for i in  range(3):\n",
    "    df=pd.DataFrame({'t':[0.,1.5,3.],'x':[0.,xmax[i],0.]})\n",
    "    coeffs=np.polyfit(df.t,df.x,2)\n",
    "    P=np.poly1d(coeffs)\n",
    "    plt.plot(t,P(t),ls[i],label='S=%g J$\\cdot$s' %S(P(t)))\n",
    "    \n",
    "plt.legend(loc='best',fontsize=12)    \n",
    "plt.xlabel('$t$ [s]',size=20)\n",
    "plt.ylabel('$x$ [m]',size=20)"
   ]
  },
  {
   "cell_type": "code",
   "execution_count": null,
   "metadata": {
    "collapsed": true
   },
   "outputs": [],
   "source": []
  }
 ],
 "metadata": {
  "kernelspec": {
   "display_name": "Python 3",
   "language": "python",
   "name": "python3"
  },
  "language_info": {
   "codemirror_mode": {
    "name": "ipython",
    "version": 3
   },
   "file_extension": ".py",
   "mimetype": "text/x-python",
   "name": "python",
   "nbconvert_exporter": "python",
   "pygments_lexer": "ipython3",
   "version": "3.4.2"
  },
  "toc": {
   "colors": {
    "hover_highlight": "#DAA520",
    "running_highlight": "#FF0000",
    "selected_highlight": "#FFD700"
   },
   "moveMenuLeft": true,
   "nav_menu": {
    "height": "31px",
    "width": "252px"
   },
   "navigate_menu": true,
   "number_sections": true,
   "sideBar": true,
   "threshold": 4,
   "toc_cell": false,
   "toc_section_display": "block",
   "toc_window_display": false
  }
 },
 "nbformat": 4,
 "nbformat_minor": 2
}
