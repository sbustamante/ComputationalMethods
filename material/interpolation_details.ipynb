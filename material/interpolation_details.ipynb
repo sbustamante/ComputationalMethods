{
 "cells": [
  {
   "cell_type": "markdown",
   "metadata": {},
   "source": [
    "# Appendix\n",
    "Thecnical details of interpolation functions: [interpolation_details.ipynb](./interpolation_details.ipynb)"
   ]
  },
  {
   "cell_type": "markdown",
   "metadata": {},
   "source": [
    "# Divided Differences"
   ]
  },
  {
   "cell_type": "markdown",
   "metadata": {},
   "source": [
    "In spite of the good precision achieved by the Lagrange interpolating polynomials, analytical manipulation of such an expressions is rather complicated. Furthermore, when applying other polynomials-based techniques like Hermite polynomials, the algorithms present very different ways to achieve the final interpolation, making a comparison unclear.\n",
    "\n",
    "Divided differences is a way to standardize the notation for interpolating polynomials. Suppose a polynomial $P_n(x)$ and write it in the next form:\n",
    "\n",
    "$$P_n(x) = a_0 + a_1(x-x_0)+ a_2 (x-x_0)(x-x_1)+\\cdots + a_n(x-x_0)\\cdots (x-x_{n-1})$$\n",
    "\n",
    "where $a_i$ are a set of constants to be determined from the given data $(x_i, y_i)$.\n",
    "\n",
    "Note that due to the definition of an interpolant function, previous expression should satisfy:\n",
    "\n",
    "$$P_n(x_0) = a_0 = y_0$$\n",
    "\n",
    "$$P_n(x_1) = a_0 + a_1(x_1-x_0) = y_0 + a_1(x_1-x_0) = y_1 \\ \\ \\ \\longrightarrow \\ \\ \\ \\ a_1 = \\frac{f(x_1)-f(x_0)}{x_1-x_0}$$\n",
    "\n",
    "$\\cdots$ and so.\n",
    "\n",
    "Defining the **zeroth divided difference** of $x_i$ like\n",
    "\n",
    "$$D_0[x_i] = f[x_i] = f(x_i) = y_i$$\n",
    "\n",
    "the **firts divided difference** of $x_i$ like\n",
    "\n",
    "$$D_1[x_i] = f[x_i, x_{i+1}] = \\frac{f[x_{i+1}]-f[x_i]}{x_{i+1}-x_i}$$\n",
    "\n",
    "$$D_1[x_i] = \\frac{D_{0}[x_{i+1}]-D_{0}[x_{i}]}{x_{i+1}-x_i} $$\n",
    "\n",
    "successively until the **kth divided difference**\n",
    "\n",
    "$$D_k[x_i] = f[x_i, x_{i+1},\\cdots, x_{i+k-1},x_{i+k}] = \\frac{f[x_{i+1},x_{i+2}\\cdots, x_{i+k}]-f[x_i, x_{i+1},\\cdots, x_{i+k-1}]}{x_{i+k}-x_i}$$\n",
    "\n",
    "$$D_k[x_i] = \\frac{D_{k-1}[x_{i+1}]-D_{k-1}[x_{i}]}{x_{i+k}-x_i}$$\n",
    "\n",
    "These expressions are the fundamental bricks for any interpolating method."
   ]
  },
  {
   "cell_type": "code",
   "execution_count": 101,
   "metadata": {
    "collapsed": true
   },
   "outputs": [],
   "source": [
    "#Construction of a kth divided difference (recursive code)\n",
    "def D( i, k, Xn, Yn ):\n",
    "    #If k+i>N\n",
    "    if i+k>=len(Xn):\n",
    "        return 0\n",
    "    #Zeroth divided difference\n",
    "    elif k == 0:\n",
    "        return Yn[i]\n",
    "    #If higher divided difference\n",
    "    else:\n",
    "        return (D(i+1, k-1, Xn, Yn)-D(i, k-1, Xn, Yn))/(Xn[i+k]-Xn[i])"
   ]
  },
  {
   "cell_type": "markdown",
   "metadata": {},
   "source": [
    "## Example 2"
   ]
  },
  {
   "cell_type": "markdown",
   "metadata": {},
   "source": [
    "As an example, Lagrange interpolation can be also derived by using divided differences, which is reached through the next equation:\n",
    "\n",
    "$$P_n(x) = D_0[x_0] + \\sum_{k=1}^n D_k[x_0] (x-x_0) \\cdots (x-x_{k-1})$$\n",
    "\n",
    "Note this expression is by far easier to be manipulated analytically as we can know the coefficients of each order."
   ]
  },
  {
   "cell_type": "markdown",
   "metadata": {},
   "source": [
    "## <font color='red'>     **Activity** </font>"
   ]
  },
  {
   "cell_type": "markdown",
   "metadata": {},
   "source": [
    "<font color='red'>    \n",
    "    \n",
    "Using the previous expression and the defined function for divided differences, show both methods to calculate Lagrange interpolators are equivalents.\n",
    "</font>"
   ]
  },
  {
   "cell_type": "markdown",
   "metadata": {},
   "source": [
    "- - -"
   ]
  },
  {
   "cell_type": "markdown",
   "metadata": {},
   "source": [
    "# Hermite Interpolation"
   ]
  },
  {
   "cell_type": "markdown",
   "metadata": {},
   "source": [
    "From calculus we know that Taylor polynomials expand a function at a specific point $x_i$, being both functions (the original one and the Taylor function) exactly equal at any derivative-order at that point. Also, as mentioned before, a Lagrange polynomial, given a set of data points, passes through all those points at the same time. However if those points come from an unknown underlying function $f(x)$, the interpolant polynomial might (surely) differ from the real function at any superior derivative-order. So we have:\n",
    "\n",
    "- **Taylor polynomials** are exact at any order, but that only remains true at a specific point.\n",
    "\n",
    "- **Lagrange polynomials** pass through all points of a give dataset, but only at zeroth-order. Derivatives are not longer equal.\n",
    "\n",
    "Once established these differences, we can introduce Hermite polynomials just as a generalization of both, Taylor and Lagrange polynomials.\n",
    "\n",
    "At first, Hermite polynomials can be approximated at any desired order at all the points, as long as one has all these information. However, for the sake of simplicity and without loss of generality, we shall assume Hermite polynomials equal to the real function at zeroth and first-derivative order.\n",
    "\n",
    "Let's suppose a dataset $\\{x_i\\}_i$ for $i = 0,1,\\cdots,n$ with the respective values $\\{f(x_i)\\}_i$ and $\\{f'(x_i)\\}_i$. If we assume two different polynomials to fit each set of data, i.e. a polynomial for $\\{f(x_i)\\}_i$ and another for $\\{f'(x_i)\\}_i$, we obtain $2n+2$ coefficients, however zeroth-order coefficients can be put together so finally there are $2n+1$ independet coefficients to be determined. In this case, we assign the respective Hermite polynimial as $H_{2n+1}(x)$."
   ]
  },
  {
   "cell_type": "markdown",
   "metadata": {},
   "source": [
    "## Derivation in terms of divided differences"
   ]
  },
  {
   "cell_type": "markdown",
   "metadata": {},
   "source": [
    "Remembering the divided differences expression for a Lagrange polynomial\n",
    "\n",
    "$$P_n(x) = D_0[x_0] + \\sum_{k=1}^n D_k[x_0] (x-x_0) \\cdots (x-x_{k-1})$$\n",
    "\n",
    "and by defining a new sequence $\\{z_0, z_1, \\cdots, z_{2n+1}\\}$ such that\n",
    "\n",
    "$$z_{2i} = z_{2i+1} = x_i \\mbox{ for } i = 0,1,\\cdots, n$$\n",
    "\n",
    "However, divided differences has to be modified in order to include first-order derivatives:\n",
    "\n",
    "![](https://raw.githubusercontent.com/sbustamante/ComputationalMethods/master/material/figures/table_coefficients.png)\n",
    "\n",
    "Note that $f[z_0,z_1]$ sould be originally\n",
    "\n",
    "$$f[z_0,z_1] = \\frac{f[z_1]-f[z_0]}{z_1-z_0}$$\n",
    "\n",
    "but replacing $z_0 = z_1 = x_0$ this would lead an indetermination. In order to solve this issue, this indertemination can be readily approximated to the derivative at $z_0$, so\n",
    "\n",
    "$$f[z_0,z_1] = f'(x_0)$$\n",
    "\n",
    "or using the previously defined notation\n",
    "\n",
    "$$D_1[z_0] = f'(x_0)$$\n",
    "\n",
    "Generally, for first-order divided differences we will have\n",
    "\n",
    "$$D_1[z_{2i}] = f'(x_i)$$\n",
    "\n",
    "$$D_1[z_{2i+1}] = D_1[x_i]$$\n",
    "\n",
    "Higher order divided differences are calculated as usual.\n",
    "\n",
    "Finally, the Hermite polynomial is built using the next expression\n",
    "\n",
    "$$H_{2n+1}(x) = D_0[z_0] + \\sum_{k=1}^{2n+1} D_k[z_0] (x-z_0) \\cdots (x-z_{k-1})$$\n"
   ]
  },
  {
   "cell_type": "markdown",
   "metadata": {},
   "source": [
    "## Example 3"
   ]
  },
  {
   "cell_type": "markdown",
   "metadata": {},
   "source": [
    "Define a routine to calculate divided differences for Hermite polynomials."
   ]
  },
  {
   "cell_type": "code",
   "execution_count": 102,
   "metadata": {
    "collapsed": true
   },
   "outputs": [],
   "source": [
    "#Construction of a kth divided difference for Hermite polynomials (recursive code)\n",
    "def Dh( j, k, Zn, Yn, Ypn ):\n",
    "    #If k+j>N\n",
    "    if j+k>=len(Zn):\n",
    "        return 0\n",
    "    #Zeroth divided difference\n",
    "    elif k == 0:\n",
    "        return Yn[j/2]\n",
    "    #First order divided difference (even indexes)\n",
    "    elif k == 1 and j%2 == 0:\n",
    "        return Ypn[j/2]\n",
    "    #If higher divided difference\n",
    "    else:\n",
    "        return (Dh(j+1, k-1, Zn, Yn, Ypn)-Dh(j, k-1, Zn, Yn, Ypn))/(Zn[j+k]-Zn[j])"
   ]
  },
  {
   "cell_type": "markdown",
   "metadata": {},
   "source": [
    "## <font color='red'> **Activity** </font>"
   ]
  },
  {
   "cell_type": "markdown",
   "metadata": {},
   "source": [
    "<font color='red'>    \n",
    "\n",
    "Calculate a routine, using the previous program for divided differences, that computes the Hermite polynomial given a dataset.\n",
    "\n",
    "Generate a set of $N$ points of the function $\\sin^2(x)$ between $0$ and $2\\pi$, including an array of $x$ positions, $y = f(x)$ and first derivative $y' = f'(x)$.\n",
    "\n",
    "Show which polynomial gives the best approximation to the real function, Hermite or Lagrange polynomial.\n",
    "\n",
    "</font>\n",
    "\n",
    "<font color='white'>\n",
    "Solution:\n",
    "\n",
    "nbviewer.ipython.org/github/sbustamante/ComputationalMethods/blob/master/activities/hermite-and-lagrange.ipynb\n",
    "</font>"
   ]
  },
  {
   "cell_type": "markdown",
   "metadata": {},
   "source": [
    "- - -"
   ]
  }
 ],
 "metadata": {
  "kernelspec": {
   "display_name": "Python 3",
   "language": "python",
   "name": "python3"
  },
  "language_info": {
   "codemirror_mode": {
    "name": "ipython",
    "version": 3
   },
   "file_extension": ".py",
   "mimetype": "text/x-python",
   "name": "python",
   "nbconvert_exporter": "python",
   "pygments_lexer": "ipython3",
   "version": "3.4.2"
  },
  "toc": {
   "colors": {
    "hover_highlight": "#DAA520",
    "running_highlight": "#FF0000",
    "selected_highlight": "#FFD700"
   },
   "moveMenuLeft": true,
   "nav_menu": {
    "height": "341px",
    "width": "252px"
   },
   "navigate_menu": true,
   "number_sections": true,
   "sideBar": true,
   "threshold": 4,
   "toc_cell": false,
   "toc_section_display": "block",
   "toc_window_display": false
  }
 },
 "nbformat": 4,
 "nbformat_minor": 1
}
