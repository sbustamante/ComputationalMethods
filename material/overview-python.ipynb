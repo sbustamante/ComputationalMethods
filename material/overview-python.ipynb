{
 "cells": [
  {
   "cell_type": "markdown",
   "metadata": {},
   "source": [
    "<div style=\"float: right;\" markdown=\"1\">\n",
    "    <img src=\"https://www.python.org/static/community_logos/python-logo-master-v3-TM.png\">\n",
    "</div>\n",
    "\n",
    "PYTHON\n",
    "==\n",
    "\n",
    "Python is an interpreted programming language oriented to easy-readable coding, unlike compiled languages like C/C++ and Fortran, where the syntax usually does not favor the readability. This feature makes Python very interesting when we want to focus on something different than the program structure itself, e.g. on Computational Methods, thereby allowing to optimize our time, to debug syntax errors easily, etc.\n",
    "\n",
    "\n",
    "[Official page](https://www.python.org/)\n",
    "\n",
    "[Wikipedia](http://en.wikipedia.org/wiki/Python)\n",
    "\n",
    "Python Philosophy\n",
    "--\n",
    "1. Beautiful is better than ugly.\n",
    "2. Explicit is better than implicit.\n",
    "3. Simple is better than complex.\n",
    "4. Complex is better than complicated.\n",
    "5. Flat is better than nested.\n",
    "6. Sparse is better than dense.\n",
    "7. Readability counts.\n",
    "8. Special cases aren't special enough to break the rules. (Although practicality beats purity)\n",
    "9. Errors should never pass silently. (Unless explicitly silenced)\n",
    "10. In the face of ambiguity, refuse the temptation to guess.\n",
    "11. There should be one-- and preferably only one --obvious way to do it. (Although that way may not be obvious at first unless you're Dutch)\n",
    "12. Now is better than never. (Although never is often better than right now)\n",
    "13. If the implementation is hard to explain, it's a bad idea.\n",
    "14. If the implementation is easy to explain, it may be a good idea.\n",
    "15. NameSpaces are one honking great idea -- let's do more of those!"
   ]
  },
  {
   "cell_type": "markdown",
   "metadata": {},
   "source": [
    "- - - "
   ]
  },
  {
   "cell_type": "markdown",
   "metadata": {},
   "source": [
    "- [Hello World!](#Hello-World!) \n",
    "- [Arithmetics](#Arithmetics)\n",
    "- [Lists, Tuples and Dictionaries](#Lists,-Tuples-and-Dictionaries)\n",
    "- [Bucles and Conditionals](#Bucles-and-Conditionals)\n",
    "- [Functions](#Functions)"
   ]
  },
  {
   "cell_type": "markdown",
   "metadata": {},
   "source": [
    "- - - "
   ]
  },
  {
   "cell_type": "markdown",
   "metadata": {},
   "source": [
    "# Hello World!"
   ]
  },
  {
   "cell_type": "code",
   "execution_count": 1,
   "metadata": {},
   "outputs": [
    {
     "name": "stdout",
     "output_type": "stream",
     "text": [
      "Hello World!\n"
     ]
    }
   ],
   "source": [
    "print('Hello World!')"
   ]
  },
  {
   "cell_type": "markdown",
   "metadata": {},
   "source": [
    "And also allows scripting: *(This code should be copied on a file 'hello.py')*"
   ]
  },
  {
   "cell_type": "code",
   "execution_count": 2,
   "metadata": {},
   "outputs": [
    {
     "name": "stdout",
     "output_type": "stream",
     "text": [
      "Hello World!\n"
     ]
    }
   ],
   "source": [
    "#! /usr/bin/python\n",
    "\n",
    "#This is a comment\n",
    "print('Hello World!')"
   ]
  },
  {
   "cell_type": "markdown",
   "metadata": {},
   "source": [
    "# Arithmetics"
   ]
  },
  {
   "cell_type": "markdown",
   "metadata": {},
   "source": [
    "## Sum"
   ]
  },
  {
   "cell_type": "code",
   "execution_count": 3,
   "metadata": {},
   "outputs": [
    {
     "data": {
      "text/plain": [
       "10.78"
      ]
     },
     "execution_count": 3,
     "metadata": {},
     "output_type": "execute_result"
    }
   ],
   "source": [
    "5.89+4.89"
   ]
  },
  {
   "cell_type": "markdown",
   "metadata": {},
   "source": [
    "## Multiplication"
   ]
  },
  {
   "cell_type": "code",
   "execution_count": 4,
   "metadata": {},
   "outputs": [
    {
     "data": {
      "text/plain": [
       "540.0"
      ]
     },
     "execution_count": 4,
     "metadata": {},
     "output_type": "execute_result"
    }
   ],
   "source": [
    "120*4.5"
   ]
  },
  {
   "cell_type": "markdown",
   "metadata": {},
   "source": [
    "## **Division**"
   ]
  },
  {
   "cell_type": "code",
   "execution_count": 5,
   "metadata": {},
   "outputs": [
    {
     "data": {
      "text/plain": [
       "33"
      ]
     },
     "execution_count": 5,
     "metadata": {},
     "output_type": "execute_result"
    }
   ],
   "source": [
    "#Unless you use decimals, python does not support complete division (only integer division)\n",
    "#This only applies for Python 2.X\n",
    "100/3"
   ]
  },
  {
   "cell_type": "code",
   "execution_count": 6,
   "metadata": {},
   "outputs": [
    {
     "data": {
      "text/plain": [
       "33.333333333333336"
      ]
     },
     "execution_count": 6,
     "metadata": {},
     "output_type": "execute_result"
    }
   ],
   "source": [
    "100/3."
   ]
  },
  {
   "cell_type": "markdown",
   "metadata": {},
   "source": [
    "## **Power**"
   ]
  },
  {
   "cell_type": "code",
   "execution_count": 7,
   "metadata": {},
   "outputs": [
    {
     "data": {
      "text/plain": [
       "64"
      ]
     },
     "execution_count": 7,
     "metadata": {},
     "output_type": "execute_result"
    }
   ],
   "source": [
    "2**6"
   ]
  },
  {
   "cell_type": "markdown",
   "metadata": {},
   "source": [
    "## **Module**"
   ]
  },
  {
   "cell_type": "code",
   "execution_count": 8,
   "metadata": {},
   "outputs": [
    {
     "data": {
      "text/plain": [
       "0"
      ]
     },
     "execution_count": 8,
     "metadata": {},
     "output_type": "execute_result"
    }
   ],
   "source": [
    "10%2"
   ]
  },
  {
   "cell_type": "code",
   "execution_count": 9,
   "metadata": {},
   "outputs": [
    {
     "data": {
      "text/plain": [
       "2"
      ]
     },
     "execution_count": 9,
     "metadata": {},
     "output_type": "execute_result"
    }
   ],
   "source": [
    "20%3"
   ]
  },
  {
   "cell_type": "markdown",
   "metadata": {},
   "source": [
    "## **Scientific notation**"
   ]
  },
  {
   "cell_type": "code",
   "execution_count": 10,
   "metadata": {},
   "outputs": [
    {
     "data": {
      "text/plain": [
       "6.233333333333333e+25"
      ]
     },
     "execution_count": 10,
     "metadata": {},
     "output_type": "execute_result"
    }
   ],
   "source": [
    "(1.0e24/3. + 2.9e23)/1e-2"
   ]
  },
  {
   "cell_type": "markdown",
   "metadata": {},
   "source": [
    "# Lists, Tuples and Dictionaries"
   ]
  },
  {
   "cell_type": "markdown",
   "metadata": {},
   "source": [
    "## Lists"
   ]
  },
  {
   "cell_type": "markdown",
   "metadata": {},
   "source": [
    "Lists are useful when you want to store and manipulate a set of elements (even of different types)."
   ]
  },
  {
   "cell_type": "code",
   "execution_count": 31,
   "metadata": {},
   "outputs": [
    {
     "name": "stdout",
     "output_type": "stream",
     "text": [
      "['abc', 42, 3.1415]\n"
     ]
    }
   ],
   "source": [
    "#A list is declared using [] and may content different type of objects\n",
    "lista = [\"abc\", 42, 3.1415]\n",
    "print lista"
   ]
  },
  {
   "cell_type": "code",
   "execution_count": 32,
   "metadata": {},
   "outputs": [
    {
     "data": {
      "text/plain": [
       "'abc'"
      ]
     },
     "execution_count": 32,
     "metadata": {},
     "output_type": "execute_result"
    }
   ],
   "source": [
    "#First element of the list\n",
    "lista[0]"
   ]
  },
  {
   "cell_type": "code",
   "execution_count": 33,
   "metadata": {},
   "outputs": [
    {
     "data": {
      "text/plain": [
       "3.1415"
      ]
     },
     "execution_count": 33,
     "metadata": {},
     "output_type": "execute_result"
    }
   ],
   "source": [
    "#Last element of the list\n",
    "lista[-1]"
   ]
  },
  {
   "cell_type": "code",
   "execution_count": 34,
   "metadata": {},
   "outputs": [
    {
     "name": "stdout",
     "output_type": "stream",
     "text": [
      "['abc', 42, 3.1415, True]\n"
     ]
    }
   ],
   "source": [
    "#Adding a new element (boolean element)\n",
    "lista.append(True)\n",
    "print lista"
   ]
  },
  {
   "cell_type": "code",
   "execution_count": 35,
   "metadata": {},
   "outputs": [
    {
     "name": "stdout",
     "output_type": "stream",
     "text": [
      "['abc', 'I am second :)', 42, 3.1415, True]\n"
     ]
    }
   ],
   "source": [
    "#Inserting a new second element \n",
    "lista.insert(1, \"I am second :)\")\n",
    "print lista"
   ]
  },
  {
   "cell_type": "code",
   "execution_count": 36,
   "metadata": {},
   "outputs": [
    {
     "name": "stdout",
     "output_type": "stream",
     "text": [
      "['abc', 'I am second :)', 42, True]\n"
     ]
    }
   ],
   "source": [
    "#Deleting the third element of the list\n",
    "del lista[3]\n",
    "print lista"
   ]
  },
  {
   "cell_type": "code",
   "execution_count": 37,
   "metadata": {},
   "outputs": [
    {
     "name": "stdout",
     "output_type": "stream",
     "text": [
      "['xyz', 'I am second :)', 42, True]\n"
     ]
    }
   ],
   "source": [
    "#Reassign the first element of the list\n",
    "lista[0] = \"xyz\"\n",
    "print lista"
   ]
  },
  {
   "cell_type": "code",
   "execution_count": 40,
   "metadata": {},
   "outputs": [
    {
     "data": {
      "text/plain": [
       "['xyz', 'I am second :)', 42]"
      ]
     },
     "execution_count": 40,
     "metadata": {},
     "output_type": "execute_result"
    }
   ],
   "source": [
    "#Showing the elements from 0 to 2\n",
    "lista[0:3]"
   ]
  },
  {
   "cell_type": "code",
   "execution_count": 41,
   "metadata": {},
   "outputs": [
    {
     "data": {
      "text/plain": [
       "['xyz', 42]"
      ]
     },
     "execution_count": 41,
     "metadata": {},
     "output_type": "execute_result"
    }
   ],
   "source": [
    "#Showing elements two by two\n",
    "lista[::2]"
   ]
  },
  {
   "cell_type": "code",
   "execution_count": 25,
   "metadata": {},
   "outputs": [
    {
     "name": "stdout",
     "output_type": "stream",
     "text": [
      "[['xyz', 42, 3.1415], [True, 42L]]\n"
     ]
    }
   ],
   "source": [
    "#It is possible to embed a list\n",
    "embedded_list = [lista, [True, 42L]]\n",
    "print embedded_list"
   ]
  },
  {
   "cell_type": "code",
   "execution_count": 26,
   "metadata": {},
   "outputs": [
    {
     "data": {
      "text/plain": [
       "42"
      ]
     },
     "execution_count": 26,
     "metadata": {},
     "output_type": "execute_result"
    }
   ],
   "source": [
    "#Second element of the first list\n",
    "embedded_list[0][1]"
   ]
  },
  {
   "cell_type": "code",
   "execution_count": 44,
   "metadata": {},
   "outputs": [
    {
     "name": "stdout",
     "output_type": "stream",
     "text": [
      "[[1, 2], [3, 4]]\n"
     ]
    }
   ],
   "source": [
    "#A matrix as a list of embedded lists\n",
    "A = [ [1,2], [3,4] ]\n",
    "print A"
   ]
  },
  {
   "cell_type": "code",
   "execution_count": 46,
   "metadata": {},
   "outputs": [
    {
     "data": {
      "text/plain": [
       "[1, 2, 'ab', True, [1, 2], 3.1415, 'Pi', 'circle']"
      ]
     },
     "execution_count": 46,
     "metadata": {},
     "output_type": "execute_result"
    }
   ],
   "source": [
    "#When two list are added, the result is a new concatenated list\n",
    "[1,2,\"ab\",True,[1,2]] + [3.1415,\"Pi\",\"circle\"]"
   ]
  },
  {
   "cell_type": "markdown",
   "metadata": {},
   "source": [
    "Am additional ingredient is the `append` method of a Python list. It update the elements of the list without update explicitly the variable with some equal reasignment."
   ]
  },
  {
   "cell_type": "code",
   "execution_count": 2,
   "metadata": {},
   "outputs": [
    {
     "name": "stdout",
     "output_type": "stream",
     "text": [
      "after append 2 to [] : [2]\n",
      "after append 5 to [2]: [2, 5]\n"
     ]
    }
   ],
   "source": [
    "y=[]\n",
    "y.append(2)\n",
    "print('after append 2 to [] : {}'.format(y))\n",
    "y.append(5)\n",
    "print('after append 5 to [2]: {}'.format(y))"
   ]
  },
  {
   "cell_type": "markdown",
   "metadata": {},
   "source": [
    "## Tuples"
   ]
  },
  {
   "cell_type": "markdown",
   "metadata": {},
   "source": [
    "A tuple is almost equal to a list, except that once declared its elements, it is not possible to modify them. Therefore, tuples are useful when you only want to store some elements but not modify them."
   ]
  },
  {
   "cell_type": "code",
   "execution_count": null,
   "metadata": {
    "collapsed": true
   },
   "outputs": [],
   "source": [
    "#A tuple is declared using ()\n",
    "tupla = (\"abc\", 42, 3.1415)\n",
    "print tupla"
   ]
  },
  {
   "cell_type": "code",
   "execution_count": 65,
   "metadata": {},
   "outputs": [
    {
     "ename": "AttributeError",
     "evalue": "'tuple' object has no attribute 'append'",
     "output_type": "error",
     "traceback": [
      "\u001b[0;31m---------------------------------------------------------------------------\u001b[0m\n\u001b[0;31mAttributeError\u001b[0m                            Traceback (most recent call last)",
      "\u001b[0;32m<ipython-input-65-dd567ac24edd>\u001b[0m in \u001b[0;36m<module>\u001b[0;34m()\u001b[0m\n\u001b[1;32m      1\u001b[0m \u001b[0;31m#It is not possible to add more elements\u001b[0m\u001b[0;34m\u001b[0m\u001b[0;34m\u001b[0m\u001b[0m\n\u001b[0;32m----> 2\u001b[0;31m \u001b[0mtupla\u001b[0m\u001b[0;34m.\u001b[0m\u001b[0mappend\u001b[0m\u001b[0;34m(\u001b[0m\u001b[0;34m\"xy\"\u001b[0m\u001b[0;34m)\u001b[0m\u001b[0;34m\u001b[0m\u001b[0m\n\u001b[0m",
      "\u001b[0;31mAttributeError\u001b[0m: 'tuple' object has no attribute 'append'"
     ]
    }
   ],
   "source": [
    "#It is not possible to add more elements\n",
    "tupla.append(\"xy\")"
   ]
  },
  {
   "cell_type": "code",
   "execution_count": 66,
   "metadata": {},
   "outputs": [
    {
     "ename": "TypeError",
     "evalue": "'tuple' object doesn't support item deletion",
     "output_type": "error",
     "traceback": [
      "\u001b[0;31m---------------------------------------------------------------------------\u001b[0m\n\u001b[0;31mTypeError\u001b[0m                                 Traceback (most recent call last)",
      "\u001b[0;32m<ipython-input-66-17ab9d47366f>\u001b[0m in \u001b[0;36m<module>\u001b[0;34m()\u001b[0m\n\u001b[1;32m      1\u001b[0m \u001b[0;31m#It is not possible to delete an element\u001b[0m\u001b[0;34m\u001b[0m\u001b[0;34m\u001b[0m\u001b[0m\n\u001b[0;32m----> 2\u001b[0;31m \u001b[0;32mdel\u001b[0m \u001b[0mtupla\u001b[0m\u001b[0;34m[\u001b[0m\u001b[0;36m0\u001b[0m\u001b[0;34m]\u001b[0m\u001b[0;34m\u001b[0m\u001b[0m\n\u001b[0m",
      "\u001b[0;31mTypeError\u001b[0m: 'tuple' object doesn't support item deletion"
     ]
    }
   ],
   "source": [
    "#It is not possible to delete an element\n",
    "del tupla[0]"
   ]
  },
  {
   "cell_type": "code",
   "execution_count": 67,
   "metadata": {},
   "outputs": [
    {
     "ename": "TypeError",
     "evalue": "'tuple' object does not support item assignment",
     "output_type": "error",
     "traceback": [
      "\u001b[0;31m---------------------------------------------------------------------------\u001b[0m\n\u001b[0;31mTypeError\u001b[0m                                 Traceback (most recent call last)",
      "\u001b[0;32m<ipython-input-67-87de1a05f9b3>\u001b[0m in \u001b[0;36m<module>\u001b[0;34m()\u001b[0m\n\u001b[1;32m      1\u001b[0m \u001b[0;31m#It is not possible to modify an existing element\u001b[0m\u001b[0;34m\u001b[0m\u001b[0;34m\u001b[0m\u001b[0m\n\u001b[0;32m----> 2\u001b[0;31m \u001b[0mtupla\u001b[0m\u001b[0;34m[\u001b[0m\u001b[0;36m0\u001b[0m\u001b[0;34m]\u001b[0m \u001b[0;34m=\u001b[0m \u001b[0;34m\"xy\"\u001b[0m\u001b[0;34m\u001b[0m\u001b[0m\n\u001b[0m",
      "\u001b[0;31mTypeError\u001b[0m: 'tuple' object does not support item assignment"
     ]
    }
   ],
   "source": [
    "#It is not possible to modify an existing element\n",
    "tupla[0] = \"xy\""
   ]
  },
  {
   "cell_type": "markdown",
   "metadata": {},
   "source": [
    "## Dictionaries"
   ]
  },
  {
   "cell_type": "markdown",
   "metadata": {},
   "source": [
    "Dictionaries are extremely useful when manipulating complex data."
   ]
  },
  {
   "cell_type": "code",
   "execution_count": 69,
   "metadata": {},
   "outputs": [
    {
     "name": "stdout",
     "output_type": "stream",
     "text": [
      "{'Francia': 'Paris', 'Argentina': 'Buenos Aires', 'Bolivia': 'La Paz', 'Alemania': 'Berlin', 'Colombia': 'Bogota'}\n"
     ]
    }
   ],
   "source": [
    "#A dictionary is declared using {}, and specifying the name of the component, then the character : followed by the element to store.\n",
    "dictionary = { \"Colombia\":\"Bogota\", \"Argentina\":\"Buenos Aires\", \"Bolivia\":\"La Paz\", \"Francia\":\"Paris\", \"Alemania\":\"Berlin\" }\n",
    "print dictionary\n",
    "#Note the order in a dictionary does not matter as one identifies a single element through a string, not a number"
   ]
  },
  {
   "cell_type": "code",
   "execution_count": 71,
   "metadata": {},
   "outputs": [
    {
     "name": "stdout",
     "output_type": "stream",
     "text": [
      "Bogota\n",
      "Berlin\n"
     ]
    }
   ],
   "source": [
    "#Instead of a number, an element of a dictionary is accessed with the name of the component\n",
    "print dictionary[\"Colombia\"]\n",
    "print dictionary[\"Alemania\"]"
   ]
  },
  {
   "cell_type": "code",
   "execution_count": 2,
   "metadata": {},
   "outputs": [
    {
     "name": "stdout",
     "output_type": "stream",
     "text": [
      "Azul\n"
     ]
    }
   ],
   "source": [
    "#The elements of the dictionary may be of any type\n",
    "dictionary2 = { \"Enteros\":[1,2,3,4,5], \"Ciudad\":\"Medellin\", \"Cedula\":1128400433, \"Colores\":[\"Amarillo\", \"Azul\", \"Rojo\"] }\n",
    "print dictionary2[\"Colores\"][1]"
   ]
  },
  {
   "cell_type": "code",
   "execution_count": 3,
   "metadata": {},
   "outputs": [
    {
     "name": "stdout",
     "output_type": "stream",
     "text": [
      "{'Ciudad': 'Bogota', 'Colores': ['Amarillo', 'Azul', 'Rojo'], 'Cedula': 1128400433, 'Enteros': [1, 2, 3, 4, 5]}\n"
     ]
    }
   ],
   "source": [
    "#The elements of the dictionary can be modified only by changing directly such an element\n",
    "dictionary2[\"Ciudad\"] = \"Bogota\"\n",
    "print dictionary2"
   ]
  },
  {
   "cell_type": "code",
   "execution_count": 4,
   "metadata": {},
   "outputs": [
    {
     "name": "stdout",
     "output_type": "stream",
     "text": [
      "{'Pais': 'Colombia', 'Ciudad': 'Bogota', 'Colores': ['Amarillo', 'Azul', 'Rojo'], 'Cedula': 1128400433, 'Enteros': [1, 2, 3, 4, 5]}\n"
     ]
    }
   ],
   "source": [
    "#Adding a new element is possible by only defining the new component\n",
    "dictionary2[\"Pais\"] = \"Colombia\"\n",
    "print dictionary2"
   ]
  },
  {
   "cell_type": "code",
   "execution_count": 5,
   "metadata": {},
   "outputs": [
    {
     "name": "stdout",
     "output_type": "stream",
     "text": [
      "{'Pais': 'Colombia', 'Ciudad': 'Bogota', 'Cedula': 1128400433, 'Enteros': [1, 2, 3, 4, 5]}\n"
     ]
    }
   ],
   "source": [
    "#The command del can be also used for deleting an element, as a list\n",
    "del dictionary2[\"Colores\"]\n",
    "print dictionary2"
   ]
  },
  {
   "cell_type": "markdown",
   "metadata": {},
   "source": [
    "# Bucles and Conditionals"
   ]
  },
  {
   "cell_type": "markdown",
   "metadata": {},
   "source": [
    "## if"
   ]
  },
  {
   "cell_type": "markdown",
   "metadata": {},
   "source": [
    "Conditionals are useful when we want to check some condition.\n",
    "The statements `elif` and `else` can be used when more than one condition is possible or when there is something to do when condition is not fulfilled."
   ]
  },
  {
   "cell_type": "code",
   "execution_count": 16,
   "metadata": {},
   "outputs": [
    {
     "name": "stdout",
     "output_type": "stream",
     "text": [
      "True\n"
     ]
    }
   ],
   "source": [
    "x = 10\n",
    "y = 2\n",
    "if x > 5 and y==2:\n",
    "    print \"True\""
   ]
  },
  {
   "cell_type": "code",
   "execution_count": 29,
   "metadata": {},
   "outputs": [
    {
     "name": "stdout",
     "output_type": "stream",
     "text": [
      "True 2\n"
     ]
    }
   ],
   "source": [
    "x = 4\n",
    "y = 3\n",
    "if x>5 or y<2:\n",
    "    print \"True 1\"\n",
    "elif x==4:\n",
    "    print \"True 2\"\n",
    "else:\n",
    "    print \"False\""
   ]
  },
  {
   "cell_type": "markdown",
   "metadata": {},
   "source": [
    "## for"
   ]
  },
  {
   "cell_type": "markdown",
   "metadata": {},
   "source": [
    "`For` cycles are specially useful when we want to sweep a set of elements with a known size."
   ]
  },
  {
   "cell_type": "code",
   "execution_count": 22,
   "metadata": {},
   "outputs": [
    {
     "name": "stdout",
     "output_type": "stream",
     "text": [
      "0 0\n",
      "1 1\n",
      "2 4\n",
      "3 9\n",
      "4 16\n"
     ]
    }
   ],
   "source": [
    "for i in xrange(0,5,1):\n",
    "    print i, i**2"
   ]
  },
  {
   "cell_type": "code",
   "execution_count": 24,
   "metadata": {},
   "outputs": [
    {
     "name": "stdout",
     "output_type": "stream",
     "text": [
      "The result is 285\n"
     ]
    }
   ],
   "source": [
    "suma = 0\n",
    "for i in xrange(0,10,1):\n",
    "    suma += i**2\n",
    "print \"The result is %d\"%(suma)"
   ]
  },
  {
   "cell_type": "code",
   "execution_count": 25,
   "metadata": {},
   "outputs": [
    {
     "name": "stdout",
     "output_type": "stream",
     "text": [
      "Python\n",
      "C\n",
      "C++\n",
      "Ruby\n",
      "Java\n"
     ]
    }
   ],
   "source": [
    "for language in ['Python', 'C', 'C++', 'Ruby', 'Java']:\n",
    "    print language"
   ]
  },
  {
   "cell_type": "code",
   "execution_count": 51,
   "metadata": {},
   "outputs": [
    {
     "name": "stdout",
     "output_type": "stream",
     "text": [
      "[1, 4, 9, 16, 25, 36, 49, 64, 81]\n"
     ]
    }
   ],
   "source": [
    "serie = [ i**2 for i in xrange(1,10) ]\n",
    "print( serie )"
   ]
  },
  {
   "cell_type": "markdown",
   "metadata": {},
   "source": [
    "## while"
   ]
  },
  {
   "cell_type": "markdown",
   "metadata": {},
   "source": [
    "`While` cycles are specially useful when we want to sweep a set of elements with an  unknown size."
   ]
  },
  {
   "cell_type": "code",
   "execution_count": 33,
   "metadata": {},
   "outputs": [
    {
     "name": "stdout",
     "output_type": "stream",
     "text": [
      "Write a positive number:  -10\n",
      "You wrote a negative number. Do it again\n",
      "Write a positive number:  -5\n",
      "You wrote a negative number. Do it again\n",
      "Write a positive number:  -2\n",
      "You wrote a negative number. Do it again\n",
      "Write a positive number:  2\n",
      "Thank you!\n"
     ]
    }
   ],
   "source": [
    "#! /usr/bin/python\n",
    "number = int(input(\"Write a positive number: \"))\n",
    "while numero < 0:\n",
    "    print(\"You wrote a negative number. Do it again\")\n",
    "    numero = int(input(\"Write a positive number: \"))\n",
    "print(\"Thank you!\")"
   ]
  },
  {
   "cell_type": "code",
   "execution_count": 40,
   "metadata": {},
   "outputs": [
    {
     "name": "stdout",
     "output_type": "stream",
     "text": [
      "0.276865731891\n",
      "0.548376718376\n",
      "0.777814240976\n",
      "0.102083005032\n",
      "0.441029966753\n",
      "0.986556748219\n",
      "The selected number was 0.986556748219\n"
     ]
    }
   ],
   "source": [
    "from numpy.random import random\n",
    "x = 0\n",
    "while x<0.9:\n",
    "    x = random()\n",
    "    print x\n",
    "print \"The selected number was\", x"
   ]
  },
  {
   "cell_type": "markdown",
   "metadata": {},
   "source": [
    "# Functions"
   ]
  },
  {
   "cell_type": "markdown",
   "metadata": {},
   "source": [
    "## **Explicit functions**"
   ]
  },
  {
   "cell_type": "code",
   "execution_count": 74,
   "metadata": {},
   "outputs": [
    {
     "data": {
      "text/plain": [
       "6"
      ]
     },
     "execution_count": 74,
     "metadata": {},
     "output_type": "execute_result"
    }
   ],
   "source": [
    "def f(x,y):\n",
    "    return x*y\n",
    "f(3,2)"
   ]
  },
  {
   "cell_type": "code",
   "execution_count": 75,
   "metadata": {},
   "outputs": [
    {
     "data": {
      "text/plain": [
       "6"
      ]
     },
     "execution_count": 75,
     "metadata": {},
     "output_type": "execute_result"
    }
   ],
   "source": [
    "#It is possible to assign default arguments\n",
    "def f(x,y=2):\n",
    "    return x*y\n",
    "#When evaluating, we can omit the default argument\n",
    "f(3)"
   ]
  },
  {
   "cell_type": "code",
   "execution_count": 80,
   "metadata": {},
   "outputs": [
    {
     "name": "stdout",
     "output_type": "stream",
     "text": [
      "f(1,2)= 1\n",
      "f(2,1)= 2\n"
     ]
    }
   ],
   "source": [
    "#It is possible to specify explicitly the order of the arguments\n",
    "def f(x,y):\n",
    "    return x**y\n",
    "print 'f(1,2)=',f(1,2)\n",
    "print 'f(2,1)=',f(y=1,x=2)"
   ]
  },
  {
   "cell_type": "markdown",
   "metadata": {},
   "source": [
    "## Implicit functions"
   ]
  },
  {
   "cell_type": "markdown",
   "metadata": {},
   "source": [
    "Implicit functions are usdeful when we want to use a function once."
   ]
  },
  {
   "cell_type": "code",
   "execution_count": 82,
   "metadata": {},
   "outputs": [
    {
     "data": {
      "text/plain": [
       "9"
      ]
     },
     "execution_count": 82,
     "metadata": {},
     "output_type": "execute_result"
    }
   ],
   "source": [
    "f = lambda x,y: x**y\n",
    "f(3,2)"
   ]
  },
  {
   "cell_type": "code",
   "execution_count": 85,
   "metadata": {},
   "outputs": [
    {
     "name": "stdout",
     "output_type": "stream",
     "text": [
      "Explicit: f(2)^2 = 16\n",
      "Implicit: f(2)^2 = 16\n"
     ]
    }
   ],
   "source": [
    "#It is possible to pass functions as arguments of other function\n",
    "def f2( f, x ):\n",
    "    return f(x)**2\n",
    "\n",
    "#We can define a new function explicitly\n",
    "def f(x):\n",
    "    return x+2\n",
    "print \"Explicit: f(2)^2 =\", f2(f,2)\n",
    "\n",
    "#Or define the function implicitly\n",
    "print \"Implicit: f(2)^2 =\", f2(lambda x:x+2,2)"
   ]
  }
 ],
 "metadata": {
  "kernelspec": {
   "display_name": "Python 3",
   "language": "python",
   "name": "python3"
  },
  "language_info": {
   "codemirror_mode": {
    "name": "ipython",
    "version": 3
   },
   "file_extension": ".py",
   "mimetype": "text/x-python",
   "name": "python",
   "nbconvert_exporter": "python",
   "pygments_lexer": "ipython3",
   "version": "3.4.2"
  },
  "toc": {
   "colors": {
    "hover_highlight": "#DAA520",
    "running_highlight": "#FF0000",
    "selected_highlight": "#FFD700"
   },
   "moveMenuLeft": true,
   "nav_menu": {
    "height": "390px",
    "width": "252px"
   },
   "navigate_menu": true,
   "number_sections": true,
   "sideBar": true,
   "threshold": 4,
   "toc_cell": false,
   "toc_section_display": "block",
   "toc_window_display": false
  }
 },
 "nbformat": 4,
 "nbformat_minor": 1
}
