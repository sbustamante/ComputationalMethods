{
 "cells": [
  {
   "cell_type": "markdown",
   "metadata": {},
   "source": [
    "# Fork official repository\n",
    "This notebook explains the recommended way to use this repository. If you only want to visualize the notebooks trough the viewer in [GitHub](./https://github.com/sbustamante/ComputationalMethods/blob/master/index.ipynb), you can safely ignore this section.\n",
    "\n",
    "* Firt make a fork of the official repository in GitHub\n",
    "\n",
    "* Clone your own copy of the repository with\n",
    "```bash\n",
    "git clone https://github.com/sbustamante/ComputationalMethods.git\n",
    "```\n",
    "\n",
    "[1] After work some time working with the repository you would like to register your changes with\n",
    "```bash\n",
    "git commit -am 'My changes'\n",
    "```\n",
    "[2] Check for possible changes before send your commit\n",
    "```bash\n",
    "git pull --rebase origin master\n",
    "```\n",
    "[3] Send changes to repository\n",
    "```bash\n",
    "git push origin master\n",
    "```\n",
    "[4] Go to [1] for further changes"
   ]
  },
  {
   "cell_type": "markdown",
   "metadata": {},
   "source": [
    "# Sync with official repository\n",
    "1. ONLY for the first time: Follow the instructions for LINUX in [Configuring a remote for a fork](https://help.github.com/articles/configuring-a-remote-for-a-fork/)\n",
    "2. After that, follow the instructions in [Syncing a fork](https://help.github.com/articles/syncing-a-fork/)\n",
    "<img src=\"figures/gitusage.png\"> "
   ]
  },
  {
   "cell_type": "markdown",
   "metadata": {
    "collapsed": true
   },
   "source": [
    "Summary of commands\n",
    "```bash\n",
    "ssh -XC user@hub.oproject.org #or use jupyter terminal\n",
    "cd  ComputationalMethods\n",
    "git fetch upstream\n",
    "git checkout master\n",
    "git merge upstream/master\n",
    "git merge upstream/master\n",
    "```\n",
    "or just execute\n",
    "```bash\n",
    "syncurso\n",
    "```\n",
    "To update the forked repository in GitHub, just use\n",
    "or just execute\n",
    "```bash\n",
    "git push origin master\n",
    "```"
   ]
  },
  {
   "cell_type": "markdown",
   "metadata": {},
   "source": [
    "3. After finish your work, save your changes as new notebook and to clean to the initial state use:\n",
    "```bash\n",
    "git stash\n",
    "```"
   ]
  },
  {
   "cell_type": "markdown",
   "metadata": {},
   "source": [
    "## Homework assignments management\n",
    "Nes user that your forked repository and the main repository are even\n",
    "\n",
    "In the folder `homework` of your clone repo make a notebook with the codel and explanation of your Homework assignment with the name structucture:\n",
    "```\n",
    "cd homework\n",
    "homework_[year]_[SS]_[NN]_[id].ipynb\n",
    "```\n",
    "where `[year]_[S]` corresponds to the current semester (`S=` 1 or 2),  `NN`  is the number of the  Homework assignment (with two digits), and `id` is your identification, e.g: `homework_2018_1_05_6666666.ipynb` and add the following steps.\n",
    "\n",
    "1. Add the file to repository<br/>\n",
    "If necessary, download a local copy and use: `scp homework_[year]_[SS]_[NN]_[id].ipynb user@hub.oproject.org/ComputationalMethods/homework`\n",
    "```bash\n",
    "git add homework_....ipynb\n",
    "```\n",
    "2. Commit the changes\n",
    "```bash\n",
    "git commit -am 'Tarea 5 sobre números binarios'\n",
    "```\n",
    "2. Upload the changes to your forked repository\n",
    "```bash\n",
    "git push origin master\n",
    "```\n",
    "3. Make a pull request from the GitHub web page of your forked repository. See [here](https://help.github.com/articles/about-pull-requests/) and [here](http://gfif.udea.edu.co/web/tiki-index.php?page=GitHub)"
   ]
  },
  {
   "cell_type": "markdown",
   "metadata": {
    "collapsed": true
   },
   "source": [
    "## FAQ\n",
    "1. How to remove last commit from a remote git repository?\n",
    "If necessary make a clone of the _broken_ repository\n",
    "```bash\n",
    "    git reset HEAD^ # remove commit locally\n",
    "    git push origin +HEAD # force-push the new HEAD commit\n",
    "```    "
   ]
  },
  {
   "cell_type": "code",
   "execution_count": null,
   "metadata": {
    "collapsed": true
   },
   "outputs": [],
   "source": []
  }
 ],
 "metadata": {
  "kernelspec": {
   "display_name": "Python 3",
   "language": "python",
   "name": "python3"
  },
  "language_info": {
   "codemirror_mode": {
    "name": "ipython",
    "version": 3
   },
   "file_extension": ".py",
   "mimetype": "text/x-python",
   "name": "python",
   "nbconvert_exporter": "python",
   "pygments_lexer": "ipython3",
   "version": "3.4.2"
  },
  "toc": {
   "colors": {
    "hover_highlight": "#DAA520",
    "running_highlight": "#FF0000",
    "selected_highlight": "#FFD700"
   },
   "moveMenuLeft": true,
   "nav_menu": {
    "height": "48px",
    "width": "252px"
   },
   "navigate_menu": true,
   "number_sections": true,
   "sideBar": true,
   "threshold": 4,
   "toc_cell": false,
   "toc_section_display": "block",
   "toc_window_display": false
  }
 },
 "nbformat": 4,
 "nbformat_minor": 2
}
