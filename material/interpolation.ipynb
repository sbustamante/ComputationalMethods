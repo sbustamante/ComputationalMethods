{
 "cells": [
  {
   "cell_type": "markdown",
   "metadata": {},
   "source": [
    "# Interpolation Methods"
   ]
  },
  {
   "cell_type": "markdown",
   "metadata": {},
   "source": [
    "Due to the discrete (and sometimes sparse) nature of experiments and observations, data taking procedures will always produce discrete data as well. Even, as we have seen before, information only can be discretely presented into a computer due to the binary representation. However, when we are dealing with physical models, continuous and smooth properties are of course preferred. Interpolation techniques allow then to recover a continuous field (intermediate values) from sparse datasets. Throughout this section we shall cover some of these interpolation methods."
   ]
  },
  {
   "cell_type": "markdown",
   "metadata": {},
   "source": [
    "- - -\n",
    "- [Linear Interpolation](#Linear-Interpolation)\n",
    "    - [Steps](#Steps-LI)\n",
    "    - [Example 1](#Example-1)\n",
    "- [Lagrange Polynomial](#Lagrange-Polynomial)\n",
    "    - [Derivation](#Derivation)\n",
    "    - [Steps](#Steps-LP)\n",
    "    - [Activity](#Activity-LP)\n",
    "- [Divided Differences](#Divided-Differences)\n",
    "    - [Example 2](#Example-2)\n",
    "- [Hermite Interpolation](#Hermite-Interpolation)\n",
    "    - [Derivation in terms of divided differences](#Derivation-in-terms-of-divided-differences)\n",
    "    - [Example 3](#Example-3)\n",
    "- - -"
   ]
  },
  {
   "cell_type": "code",
   "execution_count": 1,
   "metadata": {},
   "outputs": [
    {
     "name": "stdout",
     "output_type": "stream",
     "text": [
      "Populating the interactive namespace from numpy and matplotlib\n"
     ]
    }
   ],
   "source": [
    "%pylab inline"
   ]
  },
  {
   "cell_type": "code",
   "execution_count": 7,
   "metadata": {
    "collapsed": true
   },
   "outputs": [],
   "source": [
    "import pandas as pd"
   ]
  },
  {
   "cell_type": "code",
   "execution_count": 2,
   "metadata": {
    "collapsed": true
   },
   "outputs": [],
   "source": [
    "from scipy import interpolate"
   ]
  },
  {
   "cell_type": "code",
   "execution_count": 1,
   "metadata": {},
   "outputs": [
    {
     "name": "stdout",
     "output_type": "stream",
     "text": [
      "Populating the interactive namespace from numpy and matplotlib\n"
     ]
    }
   ],
   "source": [
    "import numpy as np\n",
    "%pylab inline\n",
    "import matplotlib.pyplot as plt\n",
    "# JSAnimation import available at https://github.com/jakevdp/JSAnimation\n",
    "from JSAnimation import IPython_display\n",
    "from matplotlib import animation\n",
    "from IPython.core.display import Image "
   ]
  },
  {
   "cell_type": "markdown",
   "metadata": {},
   "source": [
    "- - -"
   ]
  },
  {
   "cell_type": "markdown",
   "metadata": {},
   "source": [
    "# Linear Interpolation"
   ]
  },
  {
   "cell_type": "markdown",
   "metadata": {},
   "source": [
    "When we have a set of discrete points of the form $(x_i, y_i)$ for $1\\leq i \\leq N$, the most natural way to obtain (approximate) any intermediate value is assuming points connected by lines. Let's assume a set of points $(x_i, y_i)$ such that $y_i = f(x_i)$ for an unknown function $f(x)$, if we want to approximate the value $f(x)$ for $x_i\\leq x \\leq x_{i+1}$, we construct an equation of a line passing through $(x_i,y_i)$ and $(x_{i+1},y_{i+1})$.\n",
    "\n",
    "The linear equation is\n",
    "\n",
    "$$y=mx+b$$\n",
    "\n",
    "where\n",
    "\n",
    "$$m=\\frac{y_{i+1}-y_i}{x_{i+1}-x_i} $$\n",
    "\n",
    "and $b$ is obtained by evaluating with either $(x_i,y_i)$ or $(x_{i+1},y_{i+1})$\n",
    "\n",
    "$$y=\\frac{y_{i+1}-y_i}{x_{i+1}-x_i}x+b$$\n",
    "\n",
    "$$b=y_i-\\frac{y_{i+1}-y_i}{x_{i+1}-x_i}x_i$$\n",
    "\n",
    "\n",
    "\n",
    "$$  f(x)\\approx y = \\frac{y_{i+1}-y_i}{x_{i+1}-x_i}(x-x_i) + y_i $$\n",
    "\n",
    "and this can be applied for any $x$ such that $x_0\\leq x \\leq x_N$ and where it has been assumed an ordered set $\\left\\{x_i\\right\\}_i$."
   ]
  },
  {
   "cell_type": "markdown",
   "metadata": {},
   "source": [
    "## Steps LI"
   ]
  },
  {
   "cell_type": "markdown",
   "metadata": {},
   "source": [
    "Once defined the mathematical basis behind linear interpolation, we proceed to establish the algorithmic steps for an implementation.\n",
    "\n",
    "1. Establish the dataset you want to interpolate, i.e. you must provide a set of the form $(x_i,y_i)$.\n",
    "2. Give the value $x$ where you want to approximate the value $f(x)$.\n",
    "3. Find the interval $[x_i, x_{i+1}]$ in which $x$ is embedded.\n",
    "4. Use the above expression in order to find $y=f(x)$."
   ]
  },
  {
   "cell_type": "markdown",
   "metadata": {},
   "source": [
    "## Example 1"
   ]
  },
  {
   "cell_type": "markdown",
   "metadata": {},
   "source": [
    "Sample the function $f(x) = \\sin(x)$ between $0$ and $2\\pi$ using $N=10$ intervals. Plot both, the interpolation and the original function."
   ]
  },
  {
   "cell_type": "code",
   "execution_count": 34,
   "metadata": {
    "collapsed": true
   },
   "outputs": [],
   "source": [
    "x=np.linspace(0,6,10)"
   ]
  },
  {
   "cell_type": "markdown",
   "metadata": {},
   "source": [
    "Interpolation:"
   ]
  },
  {
   "cell_type": "code",
   "execution_count": 35,
   "metadata": {
    "collapsed": true
   },
   "outputs": [],
   "source": [
    "f=interpolate.interp1d( x,np.sin(x) )"
   ]
  },
  {
   "cell_type": "markdown",
   "metadata": {},
   "source": [
    "the object `f` behaves like a function. For example. We can evaluate both the real and the interpolated function in $x_0=3$"
   ]
  },
  {
   "cell_type": "code",
   "execution_count": 38,
   "metadata": {},
   "outputs": [
    {
     "data": {
      "text/plain": [
       "0.14112000805986721"
      ]
     },
     "execution_count": 38,
     "metadata": {},
     "output_type": "execute_result"
    }
   ],
   "source": [
    "np.sin(3)"
   ]
  },
  {
   "cell_type": "code",
   "execution_count": 37,
   "metadata": {},
   "outputs": [
    {
     "data": {
      "text/plain": [
       "array(0.13335233188016332)"
      ]
     },
     "execution_count": 37,
     "metadata": {},
     "output_type": "execute_result"
    }
   ],
   "source": [
    "f(3)"
   ]
  },
  {
   "cell_type": "code",
   "execution_count": 3,
   "metadata": {},
   "outputs": [
    {
     "data": {
      "text/plain": [
       "<matplotlib.text.Text at 0x7fb74b59c470>"
      ]
     },
     "execution_count": 3,
     "metadata": {},
     "output_type": "execute_result"
    },
    {
     "data": {
      "image/png": "[encoded data removed]",
      "text/plain": [
       "<matplotlib.figure.Figure at 0x7fb74b594080>"
      ]
     },
     "metadata": {},
     "output_type": "display_data"
    }
   ],
   "source": [
    "#Number of intervals for data\n",
    "Ndat = 10\n",
    "Xn = np.linspace( 0, 2*np.pi, Ndat )\n",
    "Yn = np.sin(Xn)\n",
    "\n",
    "#Obtaining linear interpolation\n",
    "Ninter = 100\n",
    "x = np.linspace( 0, 2*np.pi, Ninter )\n",
    "y = interpolate.interp1d( x, np.sin(x) )\n",
    "f = np.sin(x)\n",
    "\n",
    "#Plotting\n",
    "plt.figure( figsize=(12,6) )\n",
    "plt.plot( Xn, y(Xn), color=\"green\", linewidth=2, label=\"linear interpolation\" )\n",
    "plt.plot( x, f, color=\"blue\", linewidth=2, label=\"real function\" )\n",
    "plt.plot( Xn, Yn, \"o\", color=\"red\", label=\"data\" )\n",
    "\n",
    "#Formatting\n",
    "plt.legend()\n",
    "plt.grid()\n",
    "plt.xlabel( \"x\" )\n",
    "plt.xlabel( \"y\" )\n",
    "plt.ylim( (-1.5,1.5) )\n",
    "plt.title( \"Linear interpolation of $\\sin(x)$\" )"
   ]
  },
  {
   "cell_type": "markdown",
   "metadata": {},
   "source": [
    "## <font color='red'>     **Activity** </font>"
   ]
  },
  {
   "cell_type": "markdown",
   "metadata": {},
   "source": [
    "<font color='red'>    \n",
    "    \n",
    "Use the previous code and explore the behaviour of the Linear Interpolation algorithm when varying the number of data used.\n",
    "</font>"
   ]
  },
  {
   "cell_type": "markdown",
   "metadata": {},
   "source": [
    "- - -"
   ]
  },
  {
   "cell_type": "markdown",
   "metadata": {},
   "source": [
    "# Lagrange Polynomial"
   ]
  },
  {
   "cell_type": "markdown",
   "metadata": {},
   "source": [
    "Algebraic polynomials are very special functions as they have properties like differentiability (unlike linear interpolation) and continuity that make them useful for approximations like interpolation. A Polynomial is defined as a function given by the general expression:\n",
    "\n",
    "$$P_n(x) = a_nx^n + a_{n-1}x^{n-1} + \\cdots + a_1 x + a_0$$\n",
    "\n",
    "where $n$ is the polynomial degree.\n",
    "\n",
    "Another important property of polynomials is given by the [Weierstrass Approximation Theorem](http://en.wikipedia.org/wiki/Stone%E2%80%93Weierstrass_theorem), which states given a cotinuous function $f$ defined on a interval $[a,b]$, for all $\\epsilon >0$, there exits a polynomial $P(x)$ such that\n",
    "\n",
    "$$|f(x) - P(x)|<\\epsilon\\ \\ \\ \\ \\  \\mbox{for all }\\ x\\ \\mbox{ in }\\ [a,b].$$\n",
    "\n",
    "This theorem guarantees the existence of such a polynomial, however it is necessary to propose a scheme to build it."
   ]
  },
  {
   "cell_type": "markdown",
   "metadata": {},
   "source": [
    "## Derivation"
   ]
  },
  {
   "cell_type": "markdown",
   "metadata": {},
   "source": [
    "Let's suppose a well-behaved yet unknown function $f$ and two points $(x_0,y_0)$ and $(x_1,y_1)$ for which $f(x_0) = y_0$ and $f(x_1) = y_1$. With this information we can build a first-degree polynomial that passes through both points (same Linear Interpolation):\n",
    "\n",
    "$$P_1(x) = \\left[ \\frac{y_{1}-y_0}{x_{1}-x_0} \\right]x + \\left[ y_0 - \\frac{y_{1}-y_0}{x_{1}-x_0}x_0 \\right]$$\n",
    "\n",
    "We can readily rewrite this expression like:\n",
    "\n",
    "$$P_1(x) = L_0(x)f(x_0) + L_1(x)f(x_1)$$\n",
    "\n",
    "where we define the functions $L_0(x)$ and $L_1(x)$ as:\n",
    "\n",
    "$$L_0(x) = \\frac{x-x_1}{x_0-x_1} \\mbox{ and } L_1(x) = \\frac{x-x_0}{x_1-x_0}$$\n",
    "\n",
    "Note then that\n",
    "\n",
    "$$L_0(x_0) = 1,\\ \\ \\ L_0(x_1) = 0,\\ \\ \\ L_1(x_0) = 0,\\ \\ \\ L_1(x_0) = 1$$\n",
    "\n",
    "implying:\n",
    "\n",
    "$$P_1(x_0) = f(x_0) = y_0$$\n",
    "\n",
    "$$P_1(x_1) = f(x_1) = y_1$$\n",
    "\n",
    "Although all this procedure may seem unnecessary for a line, a generalization to larger datasets is direct."
   ]
  },
  {
   "cell_type": "markdown",
   "metadata": {},
   "source": [
    "Let's assume again a well-behaved and unknown function $f$ sampled by using a set of $n+1$ data $(x_i,y_i)$ ($0\\leq i \\leq n$). We need to find a function $L_{n,i}(x)$ such that $L_{n,i}(x_i) = 1$ and $L_{n,i}(x_j) = 0$ for $i\\neq j$. A function that satisfies this criterion is\n",
    "\n",
    "$$L_{n,i}(x) = \\frac{(x-x_0)\\cdots (x-x_{i-1})(x-x_{i+1})\\cdots (x-x_n)}{(x_i-x_{0})\\cdots (x_i-x_{i-1})(x_i-x_{i+1})\\cdots (x_i-x_n)}$$\n",
    "\n",
    "Then, the next polynomial of $n$th-degree \n",
    "\n",
    "$$P_n(x) = \\sum_{i=0}^n f(x_i)L_{n,i}(x) = \\sum_{i=0}^n y_iL_{n,i}(x)$$\n",
    "\n",
    "will satisfy the definitory property for a interpolating polynomial, i.e. $P_n(x_i) = y_i$ for any $i$ and it is called the **Lagrange Polynomial**."
   ]
  },
  {
   "cell_type": "markdown",
   "metadata": {},
   "source": [
    "## Steps LP"
   ]
  },
  {
   "cell_type": "markdown",
   "metadata": {},
   "source": [
    "Once defined the formal procedure for constructing a Lagrange Polynomial, we proceed to describe the explicit algorithm:\n",
    "\n",
    "1. Give the working dataset $(x_i, y_i)$ and stablish how many points you have.\n",
    "2. Define the functions $L_{n,i}(x)$ in a general way.\n",
    "3. Add each of those terms as shown in last expression.\n",
    "4. Evaluate your result wherever you want."
   ]
  },
  {
   "cell_type": "markdown",
   "metadata": {},
   "source": [
    "## <font color='red'>     **Activity** </font>"
   ]
  },
  {
   "cell_type": "markdown",
   "metadata": {},
   "source": [
    "<font color='red'>    \n",
    "    \n",
    "Along with the professor, write an implementation of the previous algorithm during classtime.\n",
    "</font>"
   ]
  },
  {
   "cell_type": "markdown",
   "metadata": {},
   "source": [
    "## Activity LP"
   ]
  },
  {
   "cell_type": "markdown",
   "metadata": {},
   "source": [
    "<div style=\"float: right;\" markdown=\"1\">\n",
    "    <img src=\"http://universe-review.ca/I05-28-NGC7331.jpg\">\n",
    "</div>\n",
    "\n",
    "One of the very first evidences of the existence of dark matter was the flat rotation curves of spiral galaxies. If we assume the total budget of mass of a galaxy is entirely made of luminous matter, the orbital circular velocity of stars around the galaxy plane should decay according to a keplerian potential. However this is not the case and the circular velocity barely decreases at larger radius, thus indicating the presence of a new non-visible matter component (dark matter). When it is necessary to determine how massive is the dark matter halo embedding a galaxy, an integration of the circular velocity is required. Nevertheless, due to the finite array of a CCD camera, only a discrete set of velocities can be measured and interpolation techniques are required.\n",
    "\n",
    "\n",
    "In this activity we will take a discrete dataset of the circular velocity as a function of the radius for the galaxy [NGC 7331](http://es.wikipedia.org/wiki/NGC_7331) and perform both, a linear and a Lagrange interpolation. You can download the dataset from this [link](https://raw.githubusercontent.com/sbustamante/ComputationalMethods/master/data/NGC7331.dat).\n"
   ]
  },
  {
   "cell_type": "markdown",
   "metadata": {},
   "source": [
    "[Video](https://upload.wikimedia.org/wikipedia/commons/transcoded/3/33/Galaxy_rotation_under_the_influence_of_dark_matter.ogv/Galaxy_rotation_under_the_influence_of_dark_matter.ogv.360p.webm)"
   ]
  },
  {
   "cell_type": "markdown",
   "metadata": {},
   "source": [
    "<font color='blue'>\n",
    "**TRIVIA**<br/> \n",
    "To which of two curves the real data approach better?\n",
    "</font>"
   ]
  },
  {
   "cell_type": "markdown",
   "metadata": {},
   "source": [
    "import os\n",
    "os.remove('trivia_results.txt')"
   ]
  },
  {
   "cell_type": "code",
   "execution_count": null,
   "metadata": {},
   "outputs": [],
   "source": [
    "f=open('trivia_results.txt','a')\n",
    "AB=input(r'''A: to the curve \"velocity goes to zero when distance goes to infinity\"\n",
    "B: to the curve \"velocity goes to high constant when distance goes to infinity\"\n",
    "''')\n",
    "f.write( '{}\\n'.format(AB) )\n",
    "f.close()"
   ]
  },
  {
   "cell_type": "markdown",
   "metadata": {},
   "source": [
    "fr=open('trivia_results.txt')\n",
    "print( fr.read())\n",
    "fr.close()"
   ]
  },
  {
   "cell_type": "markdown",
   "metadata": {},
   "source": [
    "os.remove('trivia_results.txt')"
   ]
  },
  {
   "cell_type": "markdown",
   "metadata": {},
   "source": [
    "### Lets us check! "
   ]
  },
  {
   "cell_type": "code",
   "execution_count": 17,
   "metadata": {},
   "outputs": [
    {
     "data": {
      "text/html": [
       "<div>\n",
       "<table border=\"1\" class=\"dataframe\">\n",
       "  <thead>\n",
       "    <tr style=\"text-align: right;\">\n",
       "      <th></th>\n",
       "      <th>0</th>\n",
       "      <th>1</th>\n",
       "    </tr>\n",
       "  </thead>\n",
       "  <tbody>\n",
       "    <tr>\n",
       "      <th>0</th>\n",
       "      <td>0.05</td>\n",
       "      <td>33.42496</td>\n",
       "    </tr>\n",
       "    <tr>\n",
       "      <th>1</th>\n",
       "      <td>0.10</td>\n",
       "      <td>71.70398</td>\n",
       "    </tr>\n",
       "    <tr>\n",
       "      <th>2</th>\n",
       "      <td>0.15</td>\n",
       "      <td>95.14708</td>\n",
       "    </tr>\n",
       "    <tr>\n",
       "      <th>3</th>\n",
       "      <td>0.20</td>\n",
       "      <td>107.32276</td>\n",
       "    </tr>\n",
       "    <tr>\n",
       "      <th>4</th>\n",
       "      <td>0.25</td>\n",
       "      <td>117.44285</td>\n",
       "    </tr>\n",
       "  </tbody>\n",
       "</table>\n",
       "</div>"
      ],
      "text/plain": [
       "      0          1\n",
       "0  0.05   33.42496\n",
       "1  0.10   71.70398\n",
       "2  0.15   95.14708\n",
       "3  0.20  107.32276\n",
       "4  0.25  117.44285"
      ]
     },
     "execution_count": 17,
     "metadata": {},
     "output_type": "execute_result"
    }
   ],
   "source": [
    "df=pd.read_table('https://raw.githubusercontent.com/sbustamante/ComputationalMethods/master/data/NGC7331.dat',sep='\\s+',header=None)\n",
    "df[0:5]"
   ]
  },
  {
   "cell_type": "markdown",
   "metadata": {},
   "source": [
    "To rename columns of a DataFrame\n",
    "```python\n",
    "df.rename_axis({'OLD':'NEW'}, axis = 'columns')\n",
    "```\n",
    "Further tips and tricks with Pandas: [here](https://github.com/restrepo/PythonTipsAndTricks)"
   ]
  },
  {
   "cell_type": "code",
   "execution_count": 21,
   "metadata": {},
   "outputs": [
    {
     "data": {
      "text/html": [
       "<div>\n",
       "<table border=\"1\" class=\"dataframe\">\n",
       "  <thead>\n",
       "    <tr style=\"text-align: right;\">\n",
       "      <th></th>\n",
       "      <th>r</th>\n",
       "      <th>v</th>\n",
       "    </tr>\n",
       "  </thead>\n",
       "  <tbody>\n",
       "    <tr>\n",
       "      <th>0</th>\n",
       "      <td>0.05</td>\n",
       "      <td>33.42496</td>\n",
       "    </tr>\n",
       "    <tr>\n",
       "      <th>1</th>\n",
       "      <td>0.10</td>\n",
       "      <td>71.70398</td>\n",
       "    </tr>\n",
       "    <tr>\n",
       "      <th>2</th>\n",
       "      <td>0.15</td>\n",
       "      <td>95.14708</td>\n",
       "    </tr>\n",
       "    <tr>\n",
       "      <th>3</th>\n",
       "      <td>0.20</td>\n",
       "      <td>107.32276</td>\n",
       "    </tr>\n",
       "    <tr>\n",
       "      <th>4</th>\n",
       "      <td>0.25</td>\n",
       "      <td>117.44285</td>\n",
       "    </tr>\n",
       "  </tbody>\n",
       "</table>\n",
       "</div>"
      ],
      "text/plain": [
       "      r          v\n",
       "0  0.05   33.42496\n",
       "1  0.10   71.70398\n",
       "2  0.15   95.14708\n",
       "3  0.20  107.32276\n",
       "4  0.25  117.44285"
      ]
     },
     "execution_count": 21,
     "metadata": {},
     "output_type": "execute_result"
    }
   ],
   "source": [
    "df=df.rename_axis({0:'r'}, axis = 'columns')\n",
    "df=df.rename_axis({1:'v'}, axis = 'columns')\n",
    "df[0:5]"
   ]
  },
  {
   "cell_type": "markdown",
   "metadata": {},
   "source": [
    "plt.plot(df['r'],df['v'],'r.')"
   ]
  },
  {
   "cell_type": "markdown",
   "metadata": {},
   "source": [
    "- - -"
   ]
  },
  {
   "cell_type": "markdown",
   "metadata": {},
   "source": [
    "# Divided Differences"
   ]
  },
  {
   "cell_type": "markdown",
   "metadata": {},
   "source": [
    "In spite of the good precision achieved by the Lagrange interpolating polynomials, analytical manipulation of such an expressions is rather complicated. Furthermore, when applying other polynomials-based techniques like Hermite polynomials, the algorithms present very different ways to achieve the final interpolation, making a comparison unclear.\n",
    "\n",
    "Divided differences is a way to standardize the notation for interpolating polynomials. Suppose a polynomial $P_n(x)$ and write it in the next form:\n",
    "\n",
    "$$P_n(x) = a_0 + a_1(x-x_0)+ a_2 (x-x_0)(x-x_1)+\\cdots + a_n(x-x_0)\\cdots (x-x_{n-1})$$\n",
    "\n",
    "where $a_i$ are a set of constants to be determined from the given data $(x_i, y_i)$.\n",
    "\n",
    "Note that due to the definition of an interpolant function, previous expression should satisfy:\n",
    "\n",
    "$$P_n(x_0) = a_0 = y_0$$\n",
    "\n",
    "$$P_n(x_1) = a_0 + a_1(x_1-x_0) = y_0 + a_1(x_1-x_0) = y_1 \\ \\ \\ \\longrightarrow \\ \\ \\ \\ a_1 = \\frac{f(x_1)-f(x_0)}{x_1-x_0}$$\n",
    "\n",
    "$\\cdots$ and so.\n",
    "\n",
    "Defining the **zeroth divided difference** of $x_i$ like\n",
    "\n",
    "$$D_0[x_i] = f[x_i] = f(x_i) = y_i$$\n",
    "\n",
    "the **firts divided difference** of $x_i$ like\n",
    "\n",
    "$$D_1[x_i] = f[x_i, x_{i+1}] = \\frac{f[x_{i+1}]-f[x_i]}{x_{i+1}-x_i}$$\n",
    "\n",
    "$$D_1[x_i] = \\frac{D_{0}[x_{i+1}]-D_{0}[x_{i}]}{x_{i+1}-x_i} $$\n",
    "\n",
    "successively until the **kth divided difference**\n",
    "\n",
    "$$D_k[x_i] = f[x_i, x_{i+1},\\cdots, x_{i+k-1},x_{i+k}] = \\frac{f[x_{i+1},x_{i+2}\\cdots, x_{i+k}]-f[x_i, x_{i+1},\\cdots, x_{i+k-1}]}{x_{i+k}-x_i}$$\n",
    "\n",
    "$$D_k[x_i] = \\frac{D_{k-1}[x_{i+1}]-D_{k-1}[x_{i}]}{x_{i+k}-x_i}$$\n",
    "\n",
    "These expressions are the fundamental bricks for any interpolating method."
   ]
  },
  {
   "cell_type": "code",
   "execution_count": 101,
   "metadata": {
    "collapsed": true
   },
   "outputs": [],
   "source": [
    "#Construction of a kth divided difference (recursive code)\n",
    "def D( i, k, Xn, Yn ):\n",
    "    #If k+i>N\n",
    "    if i+k>=len(Xn):\n",
    "        return 0\n",
    "    #Zeroth divided difference\n",
    "    elif k == 0:\n",
    "        return Yn[i]\n",
    "    #If higher divided difference\n",
    "    else:\n",
    "        return (D(i+1, k-1, Xn, Yn)-D(i, k-1, Xn, Yn))/(Xn[i+k]-Xn[i])"
   ]
  },
  {
   "cell_type": "markdown",
   "metadata": {},
   "source": [
    "## Example 2"
   ]
  },
  {
   "cell_type": "markdown",
   "metadata": {},
   "source": [
    "As an example, Lagrange interpolation can be also derived by using divided differences, which is reached through the next equation:\n",
    "\n",
    "$$P_n(x) = D_0[x_0] + \\sum_{k=1}^n D_k[x_0] (x-x_0) \\cdots (x-x_{k-1})$$\n",
    "\n",
    "Note this expression is by far easier to be manipulated analytically as we can know the coefficients of each order."
   ]
  },
  {
   "cell_type": "markdown",
   "metadata": {},
   "source": [
    "## <font color='red'>     **Activity** </font>"
   ]
  },
  {
   "cell_type": "markdown",
   "metadata": {},
   "source": [
    "<font color='red'>    \n",
    "    \n",
    "Using the previous expression and the defined function for divided differences, show both methods to calculate Lagrange interpolators are equivalents.\n",
    "</font>"
   ]
  },
  {
   "cell_type": "markdown",
   "metadata": {},
   "source": [
    "- - -"
   ]
  },
  {
   "cell_type": "markdown",
   "metadata": {},
   "source": [
    "# Hermite Interpolation"
   ]
  },
  {
   "cell_type": "markdown",
   "metadata": {},
   "source": [
    "From calculus we know that Taylor polynomials expand a function at a specific point $x_i$, being both functions (the original one and the Taylor function) exactly equal at any derivative-order at that point. Also, as mentioned before, a Lagrange polynomial, given a set of data points, passes through all those points at the same time. However if those points come from an unknown underlying function $f(x)$, the interpolant polynomial might (surely) differ from the real function at any superior derivative-order. So we have:\n",
    "\n",
    "- **Taylor polynomials** are exact at any order, but that only remains true at a specific point.\n",
    "\n",
    "- **Lagrange polynomials** pass through all points of a give dataset, but only at zeroth-order. Derivatives are not longer equal.\n",
    "\n",
    "Once established these differences, we can introduce Hermite polynomials just as a generalization of both, Taylor and Lagrange polynomials.\n",
    "\n",
    "At first, Hermite polynomials can be approximated at any desired order at all the points, as long as one has all these information. However, for the sake of simplicity and without loss of generality, we shall assume Hermite polynomials equal to the real function at zeroth and first-derivative order.\n",
    "\n",
    "Let's suppose a dataset $\\{x_i\\}_i$ for $i = 0,1,\\cdots,n$ with the respective values $\\{f(x_i)\\}_i$ and $\\{f'(x_i)\\}_i$. If we assume two different polynomials to fit each set of data, i.e. a polynomial for $\\{f(x_i)\\}_i$ and another for $\\{f'(x_i)\\}_i$, we obtain $2n+2$ coefficients, however zeroth-order coefficients can be put together so finally there are $2n+1$ independet coefficients to be determined. In this case, we assign the respective Hermite polynimial as $H_{2n+1}(x)$."
   ]
  },
  {
   "cell_type": "markdown",
   "metadata": {},
   "source": [
    "## Derivation in terms of divided differences"
   ]
  },
  {
   "cell_type": "markdown",
   "metadata": {},
   "source": [
    "Remembering the divided differences expression for a Lagrange polynomial\n",
    "\n",
    "$$P_n(x) = D_0[x_0] + \\sum_{k=1}^n D_k[x_0] (x-x_0) \\cdots (x-x_{k-1})$$\n",
    "\n",
    "and by defining a new sequence $\\{z_0, z_1, \\cdots, z_{2n+1}\\}$ such that\n",
    "\n",
    "$$z_{2i} = z_{2i+1} = x_i \\mbox{ for } i = 0,1,\\cdots, n$$\n",
    "\n",
    "However, divided differences has to be modified in order to include first-order derivatives:\n",
    "\n",
    "![](https://raw.githubusercontent.com/sbustamante/ComputationalMethods/master/material/figures/table_coefficients.png)\n",
    "\n",
    "Note that $f[z_0,z_1]$ sould be originally\n",
    "\n",
    "$$f[z_0,z_1] = \\frac{f[z_1]-f[z_0]}{z_1-z_0}$$\n",
    "\n",
    "but replacing $z_0 = z_1 = x_0$ this would lead an indetermination. In order to solve this issue, this indertemination can be readily approximated to the derivative at $z_0$, so\n",
    "\n",
    "$$f[z_0,z_1] = f'(x_0)$$\n",
    "\n",
    "or using the previously defined notation\n",
    "\n",
    "$$D_1[z_0] = f'(x_0)$$\n",
    "\n",
    "Generally, for first-order divided differences we will have\n",
    "\n",
    "$$D_1[z_{2i}] = f'(x_i)$$\n",
    "\n",
    "$$D_1[z_{2i+1}] = D_1[x_i]$$\n",
    "\n",
    "Higher order divided differences are calculated as usual.\n",
    "\n",
    "Finally, the Hermite polynomial is built using the next expression\n",
    "\n",
    "$$H_{2n+1}(x) = D_0[z_0] + \\sum_{k=1}^{2n+1} D_k[z_0] (x-z_0) \\cdots (x-z_{k-1})$$\n"
   ]
  },
  {
   "cell_type": "markdown",
   "metadata": {},
   "source": [
    "## Example 3"
   ]
  },
  {
   "cell_type": "markdown",
   "metadata": {},
   "source": [
    "Define a routine to calculate divided differences for Hermite polynomials."
   ]
  },
  {
   "cell_type": "code",
   "execution_count": 102,
   "metadata": {
    "collapsed": true
   },
   "outputs": [],
   "source": [
    "#Construction of a kth divided difference for Hermite polynomials (recursive code)\n",
    "def Dh( j, k, Zn, Yn, Ypn ):\n",
    "    #If k+j>N\n",
    "    if j+k>=len(Zn):\n",
    "        return 0\n",
    "    #Zeroth divided difference\n",
    "    elif k == 0:\n",
    "        return Yn[j/2]\n",
    "    #First order divided difference (even indexes)\n",
    "    elif k == 1 and j%2 == 0:\n",
    "        return Ypn[j/2]\n",
    "    #If higher divided difference\n",
    "    else:\n",
    "        return (Dh(j+1, k-1, Zn, Yn, Ypn)-Dh(j, k-1, Zn, Yn, Ypn))/(Zn[j+k]-Zn[j])"
   ]
  },
  {
   "cell_type": "markdown",
   "metadata": {},
   "source": [
    "## <font color='red'> **Activity** </font>"
   ]
  },
  {
   "cell_type": "markdown",
   "metadata": {},
   "source": [
    "<font color='red'>    \n",
    "\n",
    "Calculate a routine, using the previous program for divided differences, that computes the Hermite polynomial given a dataset.\n",
    "\n",
    "Generate a set of $N$ points of the function $\\sin^2(x)$ between $0$ and $2\\pi$, including an array of $x$ positions, $y = f(x)$ and first derivative $y' = f'(x)$.\n",
    "\n",
    "Show which polynomial gives the best approximation to the real function, Hermite or Lagrange polynomial.\n",
    "\n",
    "</font>\n",
    "\n",
    "<font color='white'>\n",
    "Solution:\n",
    "\n",
    "nbviewer.ipython.org/github/sbustamante/ComputationalMethods/blob/master/activities/hermite-and-lagrange.ipynb\n",
    "</font>"
   ]
  },
  {
   "cell_type": "markdown",
   "metadata": {},
   "source": [
    "- - -"
   ]
  }
 ],
 "metadata": {
  "kernelspec": {
   "display_name": "Python 3",
   "language": "python",
   "name": "python3"
  },
  "language_info": {
   "codemirror_mode": {
    "name": "ipython",
    "version": 3
   },
   "file_extension": ".py",
   "mimetype": "text/x-python",
   "name": "python",
   "nbconvert_exporter": "python",
   "pygments_lexer": "ipython3",
   "version": "3.5.2"
  },
  "toc": {
   "colors": {
    "hover_highlight": "#DAA520",
    "running_highlight": "#FF0000",
    "selected_highlight": "#FFD700"
   },
   "moveMenuLeft": true,
   "nav_menu": {
    "height": "341px",
    "width": "252px"
   },
   "navigate_menu": true,
   "number_sections": true,
   "sideBar": true,
   "threshold": 4,
   "toc_cell": false,
   "toc_section_display": "block",
   "toc_window_display": false
  }
 },
 "nbformat": 4,
 "nbformat_minor": 1
}
