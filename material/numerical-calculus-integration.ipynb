{
 "cells": [
  {
   "cell_type": "markdown",
   "metadata": {},
   "source": [
    "# Numerical Calculus. Integration"
   ]
  },
  {
   "cell_type": "markdown",
   "metadata": {},
   "source": [
    "Throughout this section and the next ones, we shall cover the topic of numerical calculus. Calculus has been identified since ancient times as a powerful toolkit for analysing and handling geometrical problems. Since differential calculus was developed by Newton and Leibniz (in its actual notation), many different applications have been found, at the point that most of the current science is founded on it (e.g. differential and integral equations). Due to the ever increasing complexity of analytical expressions used in physics and astronomy, their usage becomes more and more impractical, and numerical approaches are more than necessary when one wants to go deeper. This issue has been identified since long ago and many numerical techniques have been developed. We shall cover only the most basic schemes, but also providing a basis for more formal approaches.\n",
    "\n",
    "From [7 (Chapter 18)](http://pages.cs.wisc.edu/~amos/412/lecture-notes/lecture18.pdf)\n",
    "> We can only find anti-derivatives for a very small number of functions, such as those functions that are popular as problems in mathematics textbooks. Outside of math classes, these functions are rare \n"
   ]
  },
  {
   "cell_type": "markdown",
   "metadata": {},
   "source": [
    "- - -\n",
    "- [Numerical Differentiation](./numerical-calculus.ipynb) \n",
    "- [Numerical Integration](#Numerical-Integration)\n",
    "    - [Numerical quadrature](#Numerical-quadrature)\n",
    "    - [Trapezoidal rule](#Trapezoidal-rule)\n",
    "    - [Simpson's rule](#Simpson's-rule)\n",
    "- [Composite Numerical Integration](#Composite-Numerical-Integration)\n",
    "    - [Composite trapezoidal rule](#Composite-trapezoidal-rule)\n",
    "    - [Composite Simpson's rule](#Composite-Simpson's-rule)\n",
    "- [Adaptive Quadrature Methods](#Adaptive-Quadrature-Methods)\n",
    "    - [Simpson's adaptive quadrature](#Simpson's-adaptive-quadrature)\n",
    "    - [Steps Simpson's adaptive quadrature](#Steps-Simpson's-adaptive-quadrature)\n",
    "- [Improper Integrals](#Improper-Integrals)\n",
    "    - [Left endpoint singularity](#Left-endpoint-singularity)\n",
    "    - [Right endpoint singularity](#Right-endpoint-singularity)\n",
    "    - [Infinite singularity](#Infinite-singularity)\n",
    "    \n",
    "- - -"
   ]
  },
  {
   "cell_type": "code",
   "execution_count": 41,
   "metadata": {},
   "outputs": [
    {
     "name": "stdout",
     "output_type": "stream",
     "text": [
      "Populating the interactive namespace from numpy and matplotlib\n"
     ]
    },
    {
     "name": "stderr",
     "output_type": "stream",
     "text": [
      "/usr/local/lib/python2.7/dist-packages/IPython/core/magics/pylab.py:161: UserWarning: pylab import has clobbered these variables: ['f', 'interp']\n",
      "`%matplotlib` prevents importing * from pylab and numpy\n",
      "  \"\\n`%matplotlib` prevents importing * from pylab and numpy\"\n"
     ]
    }
   ],
   "source": [
    "%pylab inline\n",
    "import numpy as np\n",
    "import matplotlib.pyplot as plt\n",
    "# JSAnimation import available at https://github.com/jakevdp/JSAnimation\n",
    "from JSAnimation import IPython_display\n",
    "from matplotlib import animation\n",
    "#Interpolation add-on\n",
    "import scipy.interpolate as interpolate\n",
    "import scipy.integrate as integrate"
   ]
  },
  {
   "cell_type": "markdown",
   "metadata": {},
   "source": [
    "# Numerical Integration"
   ]
  },
  {
   "cell_type": "markdown",
   "metadata": {},
   "source": [
    "Integration is the second fundamental concept of calculus (along with differentiation). Numerical approaches are generally more useful here than in differentiation as the antiderivative procedure (analytically) is often much more complex, or even not possible. In this section we will cover some basic schemes, including numerical quadratures.\n",
    "\n",
    "Geometrically, integration can be understood as the area below a funtion within a given interval. Formally, given a function $f(x)$ such that $f\\in C^{1}[a,b]$, the antiderivative is defined as\n",
    "\n",
    "$$F(x) = \\int f(x) dx$$\n",
    "\n",
    "valid for all $x$ in $[a,b]$. However, a more useful expression is a definite integral, where the antiderivative is evaluated within some interval, i.e.\n",
    "\n",
    "$$F(x_1) - F(x_0) = \\int_{x_0}^{x_1} f(x) dx$$\n",
    "\n",
    "This procedure can be formally thought as a generalization of discrete weighted summation. This idea will be exploited below and will lead us to some first approximations to integration.\n",
    "\n",
    "See pag. 66 of [PDF](https://docs.google.com/viewer?a=v&pid=sites&srcid=ZmlzaWNhLnVkZWEuZWR1LmNvfGNvbXB1dGFkb3Jlcy1lbi1maXNpY2EtMjAxMC0yfGd4OjFmMDJjN2NlOTc3YWE0YTQ)"
   ]
  },
  {
   "cell_type": "code",
   "execution_count": 113,
   "metadata": {
    "collapsed": true
   },
   "outputs": [],
   "source": [
    "import math as m\n",
    "import cmath as cm\n",
    "import numpy as np\n",
    "import scipy as sp"
   ]
  },
  {
   "cell_type": "code",
   "execution_count": 124,
   "metadata": {
    "collapsed": true
   },
   "outputs": [],
   "source": [
    "z=2+3.2j"
   ]
  },
  {
   "cell_type": "code",
   "execution_count": 129,
   "metadata": {},
   "outputs": [
    {
     "data": {
      "text/plain": [
       "(2.0, 3.2, (2-3.2j))"
      ]
     },
     "execution_count": 129,
     "metadata": {},
     "output_type": "execute_result"
    }
   ],
   "source": [
    "z.real,z.imag,z.conjugate()"
   ]
  },
  {
   "cell_type": "code",
   "execution_count": 131,
   "metadata": {},
   "outputs": [
    {
     "data": {
      "text/plain": [
       "(8+12.8j)"
      ]
     },
     "execution_count": 131,
     "metadata": {},
     "output_type": "execute_result"
    }
   ],
   "source": [
    "z+3*z"
   ]
  },
  {
   "cell_type": "code",
   "execution_count": 132,
   "metadata": {},
   "outputs": [
    {
     "data": {
      "text/plain": [
       "(-6.240000000000002+12.8j)"
      ]
     },
     "execution_count": 132,
     "metadata": {},
     "output_type": "execute_result"
    }
   ],
   "source": [
    "z*z"
   ]
  },
  {
   "cell_type": "code",
   "execution_count": 133,
   "metadata": {},
   "outputs": [
    {
     "data": {
      "text/plain": [
       "(14.240000000000002+0j)"
      ]
     },
     "execution_count": 133,
     "metadata": {},
     "output_type": "execute_result"
    }
   ],
   "source": [
    "z*z.conjugate()"
   ]
  },
  {
   "cell_type": "code",
   "execution_count": 137,
   "metadata": {},
   "outputs": [
    {
     "ename": "TypeError",
     "evalue": "can't convert complex to float",
     "output_type": "error",
     "traceback": [
      "\u001b[0;31m\u001b[0m",
      "\u001b[0;31mTypeError\u001b[0mTraceback (most recent call last)",
      "\u001b[0;32m<ipython-input-137-6ce02f08bc86>\u001b[0m in \u001b[0;36m<module>\u001b[0;34m()\u001b[0m\n\u001b[0;32m----> 1\u001b[0;31m \u001b[0mm\u001b[0m\u001b[0;34m.\u001b[0m\u001b[0masin\u001b[0m\u001b[0;34m(\u001b[0m\u001b[0;36m2\u001b[0m\u001b[0;34m+\u001b[0m\u001b[0;36m0j\u001b[0m\u001b[0;34m)\u001b[0m\u001b[0;34m\u001b[0m\u001b[0m\n\u001b[0m",
      "\u001b[0;31mTypeError\u001b[0m: can't convert complex to float"
     ]
    }
   ],
   "source": [
    "m.asin(2+0j)"
   ]
  },
  {
   "cell_type": "code",
   "execution_count": 138,
   "metadata": {},
   "outputs": [
    {
     "data": {
      "text/plain": [
       "(1.5707963267948966+1.3169578969248166j)"
      ]
     },
     "execution_count": 138,
     "metadata": {},
     "output_type": "execute_result"
    }
   ],
   "source": [
    "cm.asin(2)"
   ]
  },
  {
   "cell_type": "code",
   "execution_count": 141,
   "metadata": {},
   "outputs": [
    {
     "data": {
      "text/plain": [
       "(1.5707963267948966+1.3169578969248166j)"
      ]
     },
     "execution_count": 141,
     "metadata": {},
     "output_type": "execute_result"
    }
   ],
   "source": [
    "np.arcsin(2+0j)"
   ]
  },
  {
   "cell_type": "code",
   "execution_count": 143,
   "metadata": {},
   "outputs": [
    {
     "data": {
      "text/plain": [
       "array([ 1.57079633+1.3169579j,  0.41151685+0.j       ])"
      ]
     },
     "execution_count": 143,
     "metadata": {},
     "output_type": "execute_result"
    }
   ],
   "source": [
    "sp.arcsin([2,0.4])"
   ]
  },
  {
   "cell_type": "markdown",
   "metadata": {},
   "source": [
    "## Numpy abstractions\n",
    "El paradigma de programación con Numpy son las las abstracciones, donde los algoritmos se escriben en términos de operaciones con arreglos, evitando el uso de ciclos. Las operaciones a bajo nivel entre arreglos están implementadas en C/Fortran dentro de Numpy. Por consiguiente un código con abstracciones queda automáticamente optimizado.\n",
    "\n",
    "Consideremos por ejemplo la integración numérica por el método de cuadraturas \\cite{fernando} \n",
    "\\begin{align*}\n",
    "  \\int_a^b f(x)d x\\approx \\frac{1}{2}\\sum_{i=1}^n (x_i-x_{i-1})(f(x_i)+f(x_{i-1}))\\,.\n",
    "\\end{align*}\n",
    "\n",
    "Para implementar las correspondientes abstracciones con NumPy, es conveniente definir los vectores\n",
    "\\begin{align*}\n",
    "  \\Delta \\mathbf{X}&=(x_1-x_0,x_2-x_1,\\cdots,x_n-x_{n-1})\\\\ \n",
    "   \\langle\\mathbf{F}\\rangle&=\\frac{1}{2}(f(x_1)+f(x_0),f(x_2)+f(x_1),\\cdots,f(x_n)+f(x_{n-1}))\\,.\n",
    "\\end{align*}\n",
    "Por consiguiente\n",
    "\\begin{align*}\n",
    "   \\int_a^b f(x)d x\\approx \\Delta \\mathbf{X}\\cdot \\langle\\mathbf{F}\\rangle\n",
    "\\end{align*}\n",
    "\n",
    "A continuación presentamos el código con diferentes niveles de abstracciones. El primero `test=0` es el más rápido:"
   ]
  },
  {
   "cell_type": "code",
   "execution_count": 161,
   "metadata": {
    "collapsed": true
   },
   "outputs": [],
   "source": [
    "import numpy as np\n",
    "def integracion (f,a,b,n=4,test=0):\n",
    "  '''integracion numerica de f entre a y b\n",
    "     con n intervalos\n",
    "  '''\n",
    "  x=np.linspace(a,b,n+1)\n",
    "  y=np.array(map(f,x))\n",
    "  #print test,' ',n\n",
    "  if test == 0:\n",
    "    return 0.5*np.dot((x[1:]-x[:-1]),(y[1:]+y[:-1]))\n",
    "  elif test ==1:\n",
    "    return 0.5*((x[1:]-x[:-1])*(y[1:]+y[:-1])).sum()\n",
    "  elif test ==2:\n",
    "    return 0.5*sum((x[1:]-x[:-1])*(y[1:]+y[:-1]))"
   ]
  },
  {
   "cell_type": "markdown",
   "metadata": {},
   "source": [
    "## Implemetation in scipy"
   ]
  },
  {
   "cell_type": "code",
   "execution_count": 7,
   "metadata": {
    "collapsed": true
   },
   "outputs": [],
   "source": [
    "integrate.quad?"
   ]
  },
  {
   "cell_type": "markdown",
   "metadata": {},
   "source": [
    "###  Usage example"
   ]
  },
  {
   "cell_type": "code",
   "execution_count": 146,
   "metadata": {
    "collapsed": true
   },
   "outputs": [],
   "source": [
    "f= lambda x: sp.sin ( x )/ x"
   ]
  },
  {
   "cell_type": "markdown",
   "metadata": {},
   "source": [
    "Full tuple output with result and numerical error"
   ]
  },
  {
   "cell_type": "code",
   "execution_count": 160,
   "metadata": {},
   "outputs": [
    {
     "name": "stdout",
     "output_type": "stream",
     "text": [
      "(0.9460830703671831, 1.0503632079297089e-14)\n",
      "0.000465154647827\n"
     ]
    }
   ],
   "source": [
    "s=time.time()\n",
    "print(integrate.quad(f,0,1))\n",
    "print(time.time()-s)"
   ]
  },
  {
   "cell_type": "markdown",
   "metadata": {},
   "source": [
    "Force output to have only the result by asking for the entry 0 of the output tuple, note the `[0]` at the end:"
   ]
  },
  {
   "cell_type": "code",
   "execution_count": 171,
   "metadata": {},
   "outputs": [
    {
     "data": {
      "text/plain": [
       "0.9460830703671831"
      ]
     },
     "execution_count": 171,
     "metadata": {},
     "output_type": "execute_result"
    }
   ],
   "source": [
    "integrate.quad(f,0,1)[0]"
   ]
  },
  {
   "cell_type": "code",
   "execution_count": 156,
   "metadata": {
    "collapsed": true
   },
   "outputs": [],
   "source": [
    "import time"
   ]
  },
  {
   "cell_type": "code",
   "execution_count": 168,
   "metadata": {},
   "outputs": [
    {
     "name": "stdout",
     "output_type": "stream",
     "text": [
      "0.946082969978\n",
      "0.00236082077026\n"
     ]
    }
   ],
   "source": [
    "s=time.time()\n",
    "print(integracion(lambda x: sp.sin ( x )/x,1E-14,1,500,test=0))\n",
    "print(time.time()-s)"
   ]
  },
  {
   "cell_type": "code",
   "execution_count": 169,
   "metadata": {},
   "outputs": [
    {
     "name": "stdout",
     "output_type": "stream",
     "text": [
      "0.946082969978\n",
      "0.00198793411255\n"
     ]
    }
   ],
   "source": [
    "s=time.time()\n",
    "print(integracion(lambda x: sp.sin ( x )/x,1E-14,1,500,test=2))\n",
    "print(time.time()-s)"
   ]
  },
  {
   "cell_type": "markdown",
   "metadata": {},
   "source": [
    "Sinintegrate: \n",
    "$$\\operatorname{Si}(t)=\\int_0^t \\frac{\\sin x}{x}\\, \\operatorname{d}x$$"
   ]
  },
  {
   "cell_type": "code",
   "execution_count": 2,
   "metadata": {
    "collapsed": true
   },
   "outputs": [],
   "source": [
    "import numpy as np\n",
    "import scipy as sp\n",
    "import scipy.integrate as integrate\n",
    "\n",
    "Sifloat=lambda t: integrate.quad(lambda x:sp.sin(x)/x,0,t)[0]\n",
    "def Si(x):\n",
    "    try:\n",
    "        nn=np.array(x).shape[0]\n",
    "        f=np.vectorize(Sifloat)\n",
    "    except IndexError:\n",
    "        f=Sifloat        \n",
    "    return f(x)"
   ]
  },
  {
   "cell_type": "code",
   "execution_count": 3,
   "metadata": {},
   "outputs": [
    {
     "data": {
      "text/plain": [
       "0.9460830703671831"
      ]
     },
     "execution_count": 3,
     "metadata": {},
     "output_type": "execute_result"
    }
   ],
   "source": [
    "Si(1)"
   ]
  },
  {
   "cell_type": "code",
   "execution_count": 4,
   "metadata": {},
   "outputs": [
    {
     "data": {
      "text/plain": [
       "array([ 0.94608307,  1.60541298])"
      ]
     },
     "execution_count": 4,
     "metadata": {},
     "output_type": "execute_result"
    }
   ],
   "source": [
    "Si([1,2])"
   ]
  },
  {
   "cell_type": "markdown",
   "metadata": {},
   "source": [
    "When you write `LaTeX`  in  `matplotlib`, you must be sure that the backslash, '\\', is properly interpreted  as the key for `LaTeX` commands, by writting an `r` before the string declaration. Note the different behaviour of the backslash in the next two cells of code. In the first one `\\t` is intepreted as the keyboard key `<TAB>` and `\\b` as an empty space, while in the second, with the prefix `r`, it is just a pair of `LaTeX` commands"
   ]
  },
  {
   "cell_type": "code",
   "execution_count": 11,
   "metadata": {},
   "outputs": [
    {
     "name": "stdout",
     "output_type": "stream",
     "text": [
      "$\tan\beta$\n"
     ]
    }
   ],
   "source": [
    "print('$\\tan\\beta$')"
   ]
  },
  {
   "cell_type": "code",
   "execution_count": 13,
   "metadata": {},
   "outputs": [
    {
     "name": "stdout",
     "output_type": "stream",
     "text": [
      "$\\tan\\beta$\n"
     ]
    }
   ],
   "source": [
    "print(r'$\\tan\\beta$')"
   ]
  },
  {
   "cell_type": "code",
   "execution_count": 6,
   "metadata": {},
   "outputs": [
    {
     "name": "stdout",
     "output_type": "stream",
     "text": [
      "Populating the interactive namespace from numpy and matplotlib\n"
     ]
    }
   ],
   "source": []
  },
  {
   "cell_type": "code",
   "execution_count": 48,
   "metadata": {},
   "outputs": [
    {
     "data": {
      "image/png": "[encoded data removed]",
      "text/plain": [
       "<matplotlib.figure.Figure at 0x7fbb3c90f510>"
      ]
     },
     "metadata": {},
     "output_type": "display_data"
    }
   ],
   "source": [
    "t=np.logspace(np.log10(1E-3),np.log10(2),200)\n",
    "tt=np.linspace(2,20,200)\n",
    "plt.semilogy(t,Si(t),'b-')\n",
    "plt.semilogy(tt,Si(tt),'b-')\n",
    "plt.xlabel('$x$',size=15)\n",
    "plt.ylabel(r'${\\rm Si}(t)=\\int_0^t {\\sin\\, x}/{x}\\,{\\rm d}\\,x$',size=15)\n",
    "plt.grid()"
   ]
  },
  {
   "cell_type": "markdown",
   "metadata": {},
   "source": [
    "## Numerical approximation of integrals"
   ]
  },
  {
   "cell_type": "markdown",
   "metadata": {},
   "source": [
    "The methods for numerical approximation that we will study here rely in the idea of approximate \n",
    "$$\\int_a^b f(x)\\operatorname{d}x\\,,$$\n",
    "by using some polinomial $p$, such that\n",
    "$$\\int_a^b f(x)\\operatorname{d}x\\approx \\int_a^b P_n(x)\\operatorname{d}x\\,,$$\n",
    "The integral of a polynomial can be calculated analytically because we know its antiderivative.\n",
    "\n",
    "Since, as we seen in [Lagrange-Polynomial](interpolation.ipynb#Lagrange-Polynomial), the next polynomial of $n$th-degree \n",
    "$$P_n(x) = \\sum_{i=0}^n f(x_i)L_{n,i}(x) = \\sum_{i=0}^n y_iL_{n,i}(x)\\,,$$\n",
    "where \n",
    "$$L_{n,i}(x) = \\prod_{\\begin{smallmatrix}m=0\\\\ m\\neq i\\end{smallmatrix}}^n \\frac{x-x_m}{x_i-x_m} =\\frac{(x-x_0)}{(x_i-x_0)}\\frac{(x-x_1)}{(x_i-x_1)}\\cdots \\frac{(x-x_{i-1})}{(x_i-x_{i-1})}\\underbrace{\\frac{}{}}_{m\\ne i}\n",
    "\\frac{(x-x_{i+1})}{(x_i-x_{i+1})} \\cdots \\frac{(x-x_{n-1})}{(x_i-x_{n-1})}\\frac{(x-x_n)}{(x_i-x_n)}  $$\n",
    "Given a well-behaved function $f(x)$, we have then\n",
    "\n",
    "$$f(x) \\approx \\sum_{k=0}^n f(x_k)L_{n,k}(x)$$\n",
    "\n",
    "\\begin{align}\n",
    "%$$ trick notebook cell\n",
    "\\int_a^b f(x)dx =& \\int_a^b\\sum_{k=0}^n f(x_k)L_{n,k}(x)dx \\\\\n",
    "=&\\sum_{k=0}^n f(x_k) \\int_a^b L_{n,k}(x)dx \\\\\n",
    "=&\\sum_{k=0}^n f(x_k) \\omega_i \\,\n",
    "%$$\n",
    "\\end{align}\n",
    "<!-- http://pages.cs.wisc.edu/~amos/412/lecture-notes/lecture18.pdf -->\n",
    "where $\\omega_i$ is a _weight_ applied to each function value:\n",
    "$$\\omega_i = \\int_a^b L_{n,k}(x) dx= \\int_a^b\\prod_{j=0,\\ j\\neq k}^{n}\\frac{(x-x_j)}{(x_k-x_j)}dx$$\n",
    "Note that, since Lagrange polynomials do not depend on the function, we can calculate the weights $\\omega_i$ using only the nodes $[x_0,x_1,\\ldots x_n]$"
   ]
  },
  {
   "cell_type": "markdown",
   "metadata": {},
   "source": [
    "### Error calculation\n",
    "Including the error, the previous function $f(x)$ can be written as\n",
    "\n",
    "$$f(x) = \\sum_{k=0}^n f(x_k)L_{n,k}(x) + \\frac{(x-x_0)(x-x_1)\\cdots(x-x_n)}{(n+1)!}f^{(n+1)}(\\xi(x))$$\n",
    "\n",
    "with $L_{n,k}(x)$ the lagrange basis functions. Integrating $f(x)$ over $[a,b]$, we obtain the next expression:\n",
    "\n",
    "$$\\int_a^b f(x)dx = \\int_a^b\\sum_{k=0}^n f(x_k)L_{n,k}(x)dx + \\int_a^b\\frac{(x-x_0)(x-x_1)\\cdots(x-x_n)}{(n+1)!}f^{(n+1)}(\\xi(x))dx$$\n",
    "\n",
    "It is worth mentioning this expression is a number, unlike differentiation where we obtained a function.\n",
    "\n",
    "We can readily convert this expression in a weighted summation as\n",
    "\n",
    "$$\\int_a^b f(x)dx = \\sum_{k=0}^n \\omega_i\\,f(x_k) + \\frac{1}{(n+1)!}\\int_a^bf^{(n+1)}(\\xi(x)) \\prod_{k=0}^{n}(x-x_k)dx$$\n",
    "\n",
    "\n",
    "Finally, the quadrature formula or **Newton-Cotes formula** is given by the next expression:\n",
    "\n",
    "$$\\int_a^b f(x) dx = \\sum \\omega_i\\, f(x_i) + E[f]$$\n",
    "\n",
    "where the estimated error is \n",
    "\n",
    "$$E[f] = \\frac{1}{(n+1)!}\\int_a^bf^{(n+1)}(\\xi(x)) \\prod_{k=0}^{n}(x-x_k)dx $$\n",
    "\n",
    "Asumming besides intervals equally spaced such that $x_i = x_0 + i\\times h$, the error formula becomes:\n",
    "\n",
    "$$E[f] = \\frac{h^{n+3}f^{n+2}(\\xi)}{(n+1)!}\\int_0^nt^2(t-1)\\cdots(t-n) $$\n",
    "\n",
    "if $n$ is even and\n",
    "\n",
    "$$E[f] = \\frac{h^{n+2}f^{n+1}(\\xi)}{(n+1)!}\\int_0^nt(t-1)\\cdots(t-n) $$\n",
    "\n",
    "if $n$ is odd.\n",
    "\n",
    "Below is a simple implementation of the quadrature formula or **Newton-Cotes formula** by using the implementation in `scipy` of the Interpolation polynomial in the Lagrangian form of order $n$ discussed in [Interpolation](./interpolation.ipynb#Implementation-in-Scipy) from  `scipy interpolation`"
   ]
  },
  {
   "cell_type": "code",
   "execution_count": 8,
   "metadata": {
    "collapsed": true
   },
   "outputs": [],
   "source": [
    "from scipy import interpolate\n",
    "interpolate.lagrange?"
   ]
  },
  {
   "cell_type": "code",
   "execution_count": 43,
   "metadata": {
    "collapsed": true
   },
   "outputs": [],
   "source": [
    "def Quadrature( f, X, xmin, xmax, ymin, ymax, fig=None, leg=True ):\n",
    "    '''\n",
    "    Implementation of Newton-Cotes formula for A SINGLE INTERVAL\n",
    "    f: Function to integrate in A SINGLE INTERVAL\n",
    "    X: nodes of the Lagrangian interpolation polynomial\n",
    "    xmin,xmax,ymin, ymax: size of the figure\n",
    "    '''\n",
    "    from scipy import interpolate    \n",
    "    Y = f( X )\n",
    "    \n",
    "    #X array\n",
    "    Xarray = np.linspace( xmin, xmax, 1000 )\n",
    "    #X area\n",
    "    Xarea = np.linspace( X[0], X[-1], 1000 )\n",
    "    #F array\n",
    "    Yarray = f( Xarray )\n",
    "    \n",
    "    #Lagrange polynomial\n",
    "    Ln = interpolate.lagrange( X, Y )\n",
    "    #Interpolated array\n",
    "    Parray = Ln( Xarray )\n",
    "    #Interpolated array for area\n",
    "    Parea = Ln( Xarea )\n",
    "    \n",
    "    #Plotting\n",
    "    if fig==None:\n",
    "        fig = plt.figure( figsize = (8,8) )\n",
    "    ax = fig.add_subplot(111)\n",
    "    #Function\n",
    "    ax.plot( Xarray, Yarray, linewidth = 3, color = \"blue\", label=\"$f(x)$\" )\n",
    "    #Points\n",
    "    ax.plot( X, Y, \"o\", color=\"red\", label=\"points\", zorder = 10 )\n",
    "    #Interpolator\n",
    "    ax.plot( Xarray, Parray, linewidth = 2, color = \"black\", label=\"$P_{%d}(x)$\"%(len(X)-1) )\n",
    "    #Area\n",
    "    ax.fill_between( Xarea, Parea, color=\"green\", alpha=0.5 )\n",
    "    \n",
    "    #Format\n",
    "    ax.set_title( \"%d-point Quadrature\"%(len(X)), fontsize=16 )\n",
    "    ax.set_xlim( (xmin, xmax) )\n",
    "    ax.set_ylim( (0, 4) )\n",
    "    ax.set_xlabel( \"$x$\" )\n",
    "    ax.set_ylabel( \"$y$\" )\n",
    "    if leg:\n",
    "        ax.legend( loc=\"upper left\", fontsize=16 )\n",
    "    ax.grid(1)\n",
    "    \n",
    "    return Ln"
   ]
  },
  {
   "cell_type": "markdown",
   "metadata": {},
   "source": [
    "## Trapezoidal rule\n",
    "Using the previous formula, it is easily to derivate a set of low-order approximations for integration. Asumming a function $f(x)$ and an interval $[x_0,x_1]$, the associated quadrature formula is that obtained from a first-order Lagrange polynomial $P_1(x)$ given by:\n",
    "\n",
    "$$P_1(x) = \\frac{(x-x_1)}{x_0-x_1}f(x_0) + \\frac{(x-x_0)}{(x_1-x_0)}f(x_1)$$\n",
    "\n",
    "Using this, it is readible to obtain the integrate:\n",
    "\n",
    "$$\\int_{x_0}^{x_1}f(x)dx = \\frac{h}{2}[ f(x_0) + f(x_1) ]-\\frac{h^3}{12}f^{''}(\\xi)$$\n",
    "\n",
    "with $\\xi \\in [x_0, x_1]$ and $h = x_1-x_0$."
   ]
  },
  {
   "cell_type": "markdown",
   "metadata": {},
   "source": [
    "### Simple implementation"
   ]
  },
  {
   "cell_type": "code",
   "execution_count": 72,
   "metadata": {},
   "outputs": [
    {
     "data": {
      "image/png": "[encoded data removed]",
      "text/plain": [
       "<matplotlib.figure.Figure at 0x7f4ad40eb0d0>"
      ]
     },
     "metadata": {},
     "output_type": "display_data"
    }
   ],
   "source": [
    "#Function\n",
    "def f(x):\n",
    "    return 1+np.cos(x)**2+x\n",
    "\n",
    "#Quadrature with 2 points (Trapezoidal rule)\n",
    "X = np.array([-0.5,1.5])\n",
    "Ln=Quadrature( f, X, xmin=-1, xmax=2, ymin=0, ymax=4 )"
   ]
  },
  {
   "cell_type": "code",
   "execution_count": 73,
   "metadata": {},
   "outputs": [
    {
     "data": {
      "text/plain": [
       "4.245647748216942"
      ]
     },
     "execution_count": 73,
     "metadata": {},
     "output_type": "execute_result"
    }
   ],
   "source": [
    "integrate.quad(f,X[0],X[-1])[0]"
   ]
  },
  {
   "cell_type": "code",
   "execution_count": 74,
   "metadata": {
    "scrolled": true
   },
   "outputs": [
    {
     "data": {
      "text/plain": [
       "3.775154904633847"
      ]
     },
     "execution_count": 74,
     "metadata": {},
     "output_type": "execute_result"
    }
   ],
   "source": [
    "integrate.quad(Ln,X[0],X[-1])[0]"
   ]
  },
  {
   "cell_type": "markdown",
   "metadata": {},
   "source": [
    "### [Scipy implementation](https://docs.scipy.org/doc/scipy/reference/generated/scipy.integrate.trapz.html#r78)"
   ]
  },
  {
   "cell_type": "code",
   "execution_count": 51,
   "metadata": {
    "collapsed": true
   },
   "outputs": [],
   "source": [
    "integrate.trapz?"
   ]
  },
  {
   "cell_type": "markdown",
   "metadata": {},
   "source": [
    "In fact, as expected"
   ]
  },
  {
   "cell_type": "code",
   "execution_count": 59,
   "metadata": {},
   "outputs": [
    {
     "data": {
      "text/plain": [
       "3.7751549046338475"
      ]
     },
     "execution_count": 59,
     "metadata": {},
     "output_type": "execute_result"
    }
   ],
   "source": [
    "Y=f(X)\n",
    "integrate.trapz(Y,X)"
   ]
  },
  {
   "cell_type": "markdown",
   "metadata": {},
   "source": [
    "<img src=\"https://upload.wikimedia.org/wikipedia/commons/thumb/4/42/Composite_trapezoidal_rule_illustration.png/1200px-Composite_trapezoidal_rule_illustration.png\" height=\"400\" width=\"400\">"
   ]
  },
  {
   "cell_type": "markdown",
   "metadata": {},
   "source": [
    "For a better approximation we can use more intervals"
   ]
  },
  {
   "cell_type": "code",
   "execution_count": 64,
   "metadata": {},
   "outputs": [
    {
     "data": {
      "text/plain": [
       "1.9796508112164835"
      ]
     },
     "execution_count": 64,
     "metadata": {},
     "output_type": "execute_result"
    }
   ],
   "source": [
    "integrate.trapz(y,x)"
   ]
  },
  {
   "cell_type": "code",
   "execution_count": 75,
   "metadata": {},
   "outputs": [
    {
     "data": {
      "text/plain": [
       "4.2456474200304779"
      ]
     },
     "execution_count": 75,
     "metadata": {},
     "output_type": "execute_result"
    }
   ],
   "source": [
    "x=np.linspace( X[0], X[-1], 1000 )\n",
    "integrate.trapz(f(x),x)"
   ]
  },
  {
   "cell_type": "markdown",
   "metadata": {},
   "source": [
    "## Simpson's rule"
   ]
  },
  {
   "cell_type": "markdown",
   "metadata": {},
   "source": [
    "A slightly better approximation to integration is the Simpson's rule. For this, assume a function $f(x)$ and an interval $[x_0,x_2]$, with a intermediate point $x_1$. The associate second-order Lagrange polynomial is given by: See previous [exercise](./interpolation.ipynb#Exercise-interpolation)\n",
    "\n",
    "$$P_2(x) = \\frac{(x-x_1)(x-x_2)}{(x_0-x_1)(x_0-x_2)}f(x_0) + \\frac{(x-x_0)(x-x_2)}{(x_1-x_0)(x_1-x_2)}f(x_1) + \\frac{(x-x_0)(x-x_1)}{(x_2-x_0)(x_2-x_1)}f(x_2)$$\n",
    "\n",
    "The final expression is then:\n",
    "\n",
    "$$\\int_{x_0}^{x_2} f(x)dx = \\frac{h}{3}[ f(x_0)+4f(x_1)+f(x_2) ]-\\frac{h^5}{90}f^{(4)}(\\xi)$$"
   ]
  },
  {
   "cell_type": "code",
   "execution_count": 76,
   "metadata": {},
   "outputs": [
    {
     "data": {
      "image/png": "[encoded data removed]",
      "text/plain": [
       "<matplotlib.figure.Figure at 0x7f4b04b75bd0>"
      ]
     },
     "metadata": {},
     "output_type": "display_data"
    }
   ],
   "source": [
    "#Function\n",
    "def f(x):\n",
    "    return 1+np.cos(x)**2+x\n",
    "\n",
    "#Quadrature with 3 points (Simpson's rule)\n",
    "X = np.array([-0.5,0.5,1.5])\n",
    "Ln=Quadrature( f, X, xmin=-1, xmax=2, ymin=0, ymax=4 )"
   ]
  },
  {
   "cell_type": "code",
   "execution_count": 71,
   "metadata": {},
   "outputs": [
    {
     "data": {
      "text/plain": [
       "4.245647748216942"
      ]
     },
     "execution_count": 71,
     "metadata": {},
     "output_type": "execute_result"
    }
   ],
   "source": [
    "integrate.quad(f,X[0],X[-1])[0]"
   ]
  },
  {
   "cell_type": "code",
   "execution_count": 77,
   "metadata": {},
   "outputs": [
    {
     "data": {
      "text/plain": [
       "4.285253172123376"
      ]
     },
     "execution_count": 77,
     "metadata": {},
     "output_type": "execute_result"
    }
   ],
   "source": [
    "integrate.quad(Ln,X[0],X[-1])[0]"
   ]
  },
  {
   "cell_type": "markdown",
   "metadata": {},
   "source": [
    "### Scipy implementation"
   ]
  },
  {
   "cell_type": "code",
   "execution_count": 65,
   "metadata": {
    "collapsed": true
   },
   "outputs": [],
   "source": [
    "integrate.simps?"
   ]
  },
  {
   "cell_type": "code",
   "execution_count": 78,
   "metadata": {},
   "outputs": [
    {
     "data": {
      "text/plain": [
       "4.285253172123376"
      ]
     },
     "execution_count": 78,
     "metadata": {},
     "output_type": "execute_result"
    }
   ],
   "source": [
    "integrate.simps(Ln(X),X)"
   ]
  },
  {
   "cell_type": "code",
   "execution_count": 85,
   "metadata": {},
   "outputs": [
    {
     "data": {
      "text/plain": [
       "(4.2456474200304779, 4.2456477485166708)"
      ]
     },
     "execution_count": 85,
     "metadata": {},
     "output_type": "execute_result"
    }
   ],
   "source": [
    "x=np.linspace( X[0], X[-1], 1000 )\n",
    "integrate.trapz(f(x),x),integrate.simps(f(x),x)"
   ]
  },
  {
   "cell_type": "markdown",
   "metadata": {},
   "source": [
    "## <font color='red'>     **Activity** </font>"
   ]
  },
  {
   "cell_type": "markdown",
   "metadata": {},
   "source": [
    "<font color='red'>   \n",
    "- Using the trapezoidal and the Simpson's rules, determine the value of the integral (4.24565)\n",
    "\n",
    "$$ \\int_{-0.5}^{1.5}(1+\\cos^2x + x)dx $$\n",
    "\n",
    "- Take the previous routine Quadrature and the above function and explore high-order quadratures. What happends when you increase  the number of points?"
   ]
  },
  {
   "cell_type": "markdown",
   "metadata": {},
   "source": [
    "## <font color='red'>     **Activity** </font>"
   ]
  },
  {
   "cell_type": "markdown",
   "metadata": {},
   "source": [
    "<font color='red'>  \n",
    "\n",
    "Approximate the following integrals using formulas Trapezoidal and Simpson rules. Are the accuracies of\n",
    "the approximations consistent with the error formulas? \n",
    "\n",
    "\\begin{eqnarray*}\n",
    "&\\int_{0}^{0.1}&\\sqrt{1+ x}dx \\\\\n",
    "&\\int_{0}^{\\pi/2}&(\\sin x)^2dx\\\\ \n",
    "&\\int_{1.1}^{1.5}&e^xdx \n",
    "\\end{eqnarray*}"
   ]
  },
  {
   "cell_type": "markdown",
   "metadata": {},
   "source": [
    "# Composite Numerical Integration"
   ]
  },
  {
   "cell_type": "markdown",
   "metadata": {},
   "source": [
    "Although above-described methods are good enough when we want to integrate along small intervals, larger intervals would require more sampling points, where the resulting Lagrange interpolant will be a high-order polynomial. These interpolant polynomials exihibit usually an oscillatory behaviour (best known as [Runge's phenomenon](http://en.wikipedia.org/wiki/Runge%27s_phenomenon)), being more inaccurate as we increase $n$.\n",
    "\n",
    "An elegant and computationally inexpensive solution to this problem is a *piecewise* approach, where low-order Newton-Cotes formula (like trapezoidal and Simpson's rules) are applied over subdivided intervals."
   ]
  },
  {
   "cell_type": "code",
   "execution_count": 16,
   "metadata": {
    "collapsed": true
   },
   "outputs": [],
   "source": [
    "#Composite Quadrature method\n",
    "def CompositeQuadrature( f, a, b, N, n, xmin, xmax, ymin=0, ymax=1 ):\n",
    "    #X array\n",
    "    X = np.linspace( a, b, N )\n",
    "    \n",
    "    #Plotting\n",
    "    fig = plt.figure( figsize = (8,8) )\n",
    "    for i in xrange(0,N-n,n):\n",
    "        Xi = X[i:i+n+1]\n",
    "        ax = Quadrature( f, Xi, X[i], X[i+n], fig=fig, leg=False )\n",
    "    \n",
    "    #X array\n",
    "    Xarray = np.linspace( xmin, xmax, 1000 )\n",
    "    #F array\n",
    "    Yarray = f( Xarray )\n",
    "    #Function\n",
    "    ax.plot( Xarray, Yarray, linewidth = 3, color = \"blue\", label=\"$f(x)$\", zorder=0 )\n",
    "    \n",
    "    #Format\n",
    "    plt.xlim( (xmin, xmax) )\n",
    "    plt.ylim( (ymin, ymax) )\n",
    "    \n",
    "    return None"
   ]
  },
  {
   "cell_type": "markdown",
   "metadata": {},
   "source": [
    "## Composite trapezoidal rule"
   ]
  },
  {
   "cell_type": "markdown",
   "metadata": {},
   "source": [
    "This formula is obtained when we subdivide the integration interval $[a,b]$ within sets of two points, such that we can apply the previous Trapezoidal rule to each one.\n",
    "\n",
    "Let $f(x)$ be a well behaved function ($f\\in C^2[a,b]$), defining the interval space as $h = (b-a)/N$, where N is the number of intervals we take, the **Composite Trapezoidal rule** is given by:\n",
    "\n",
    "$$ \\int_a^b f(x) dx = \\frac{h}{2}\\left[ f(a) + 2\\sum_{j=1}^{N-1}f(x_j) + f(b) \\right] - \\frac{b-a}{12}h^2 f^{''}(\\mu)$$\n",
    "\n",
    "for some value $\\mu$ in $(a,b)$."
   ]
  },
  {
   "cell_type": "code",
   "execution_count": 17,
   "metadata": {},
   "outputs": [
    {
     "data": {
      "image/png": "[encoded data removed]",
      "text/plain": [
       "<matplotlib.figure.Figure at 0x7f7dfa441e90>"
      ]
     },
     "metadata": {},
     "output_type": "display_data"
    }
   ],
   "source": [
    "#Function\n",
    "def f(x):\n",
    "    return 1+np.cos(x)**2+x\n",
    "\n",
    "#Quadrature with 3 points (Simpson's rule)\n",
    "CompositeQuadrature( f, a=-0.5, b=1.5, N=5, n=1, xmin=-1, xmax=2, ymin=0, ymax=4 )"
   ]
  },
  {
   "cell_type": "markdown",
   "metadata": {},
   "source": [
    "## Composite Simpson's rule"
   ]
  },
  {
   "cell_type": "markdown",
   "metadata": {},
   "source": [
    "Now, if we instead divide the integration interval in sets of three points, we can apply Simpson's rule to each one, obtaining:\n",
    "\n",
    "$$ \\int_a^bf(x)dx = \\frac{h}{3}\\left[ f(a) +2 \\sum_{j=1}^{(n/2)-1}f(x_{2j})+4\\sum_{j=1}^{n/2}f(x_{2j-1})+f(b) \\right] - \\frac{b-a}{180}h^4f^{(4)}(\\mu)$$\n",
    "\n",
    "for some value $\\mu$ in $(a,b)$."
   ]
  },
  {
   "cell_type": "code",
   "execution_count": 186,
   "metadata": {},
   "outputs": [
    {
     "data": {
      "image/png": "[encoded data removed]",
      "text/plain": [
       "<matplotlib.figure.Figure at 0x7fbb609f9a10>"
      ]
     },
     "metadata": {},
     "output_type": "display_data"
    }
   ],
   "source": [
    "#Function\n",
    "def f(x):\n",
    "    return 1+np.cos(x)**2+x\n",
    "\n",
    "#Quadrature with 3 points (Simpson's rule)\n",
    "CompositeQuadrature( f, a=-0.5, b=1.5, N=5, n=2, xmin=-1, xmax=2, ymin=0, ymax=4 )"
   ]
  },
  {
   "cell_type": "markdown",
   "metadata": {},
   "source": [
    "## <font color='red'>     **Activity** </font>"
   ]
  },
  {
   "cell_type": "markdown",
   "metadata": {},
   "source": [
    "<font color='red'>   \n",
    "- Using the Composite trapezoidal and Simpson's rules, determine the value of the integral (4.24565)\n",
    "\n",
    "$$ \\int_{-0.5}^{1.5}(1+\\cos^2x + x)dx $$\n",
    "\n",
    "- Take the previous routine CompositeQuadrature and the above function and explore high-order composites quadratures. What happens when you increase the number of points?\n",
    "</font>"
   ]
  },
  {
   "cell_type": "markdown",
   "metadata": {},
   "source": [
    "## <font color='red'>     **Activity** </font>"
   ]
  },
  {
   "cell_type": "markdown",
   "metadata": {},
   "source": [
    "<font color='red'>    \n",
    "\n",
    "An experiment has measured $dN(t)/dt$, the number of particles entering a counter, per unit time, as a function of time. Your problem is to integrate this spectrum to obtain the number of particles $N(1)$ that entered the counter\n",
    "in the first second\n",
    "\n",
    "$$ N(1) = \\int_0^1 \\frac{dN}{dt} dt$$\n",
    "\n",
    "For the problem it is assumed exponential decay so that there actually is an analytic answer. \n",
    "\n",
    "$$ \\frac{dN}{dt} = e^{-t} $$\n",
    "\n",
    "Compare the relative error for the composite trapezoid and Simpson rules. Try different values of N. Make a logarithmic plot of N vs Error."
   ]
  },
  {
   "cell_type": "markdown",
   "metadata": {},
   "source": [
    "- - -"
   ]
  },
  {
   "cell_type": "markdown",
   "metadata": {},
   "source": [
    "# Adaptive Quadrature Methods"
   ]
  },
  {
   "cell_type": "markdown",
   "metadata": {},
   "source": [
    "Calculating the integrate of the function $f(x) = e^{-3x}\\sin(4x)$ within the interval $[0,4]$, we obtain:"
   ]
  },
  {
   "cell_type": "code",
   "execution_count": 13,
   "metadata": {},
   "outputs": [
    {
     "data": {
      "image/png": "[encoded data removed]",
      "text/plain": [
       "<matplotlib.figure.Figure at 0x7f7dfe96f3d0>"
      ]
     },
     "metadata": {},
     "output_type": "display_data"
    }
   ],
   "source": [
    "#Function\n",
    "def f(x):\n",
    "    return np.exp(-3*x)*np.sin(4*x)\n",
    "\n",
    "#Plotting\n",
    "X = np.linspace( 0, 4, 200 )\n",
    "Y = f(X)\n",
    "plt.figure( figsize=(14,7) )\n",
    "plt.plot( X, Y, color=\"blue\", lw=3 )\n",
    "plt.fill_between( X, Y, color=\"blue\", alpha=0.5 )\n",
    "plt.xlim( 0,4 )\n",
    "plt.grid()"
   ]
  },
  {
   "cell_type": "markdown",
   "metadata": {},
   "source": [
    "Using composite numerical integration is not completely adequate for this problem as the function exhibits different behaviours for differente intervals. For the interval $[0,2]$ the function varies noticeably, requiring a rather small integration interval $h$. However, for the interval $[2,4]$ variations are not considerable and low-order composite integration is enough. This lays a pathological situation where simple composite methods are not efficient. In order to remedy this, we introduce an adaptive quadrature methods, where the integration step $h$ can vary according to the interval. The main advantage of this is a controlable precision of the result."
   ]
  },
  {
   "cell_type": "markdown",
   "metadata": {},
   "source": [
    "## Simpson's adaptive quadrature"
   ]
  },
  {
   "cell_type": "markdown",
   "metadata": {},
   "source": [
    "Although adaptive quadrature can be readily applied to any quadrature method, we shall cover only the Simpson's adaptive quadrature as it is more than enough for most problems.\n",
    "\n",
    "Let's assume a function $f(x)$. We want to compute the integral within the interval $[a,b]$. Using a simple Simpson's quadrature, we obtain:\n",
    "\n",
    "$$\\int_a^bf(x)dx = S(a,b) - \\frac{h^5}{90}f^{(4)}(\\xi)$$\n",
    "\n",
    "where we introduce the notation:\n",
    "\n",
    "$$S(a,b) = \\frac{h}{3}\\left[ f(a) + 4f(a+h) + f(b) \\right]$$\n",
    "\n",
    "and $h$ is simply $h = (b-a)/2$.\n",
    "\n",
    "![](https://raw.githubusercontent.com/sbustamante/ComputationalMethods/bb0f137366b3d2bbfdd33425ad78be4003716703/material/figures/adaptive_quadrature.png)\n",
    "\n",
    "Now, instead of using an unique Simpson's quadrature, we implement two, yielding:\n",
    "\n",
    "$$\\int_a^bf(x)dx = S\\left(a,\\frac{a+b}{2}\\right) + S\\left(\\frac{a+b}{2},b\\right) - \\frac{1}{16}\\left(\\frac{h^5}{90}\\right)f^{(4)}(\\xi)$$\n",
    "\n",
    "For this expression, we reasonably assume an equal fourth-order derivative $f^{(4)}(\\xi) = f^{(4)}(\\xi_1) = f^{(4)}(\\xi_2) $, where $\\xi_1$ is the estimative for the first subtinterval (i.e. $\\xi_1\\in[a,(a+b)/2]$), and $\\xi_2$ for the second one (i.e. $\\xi_1\\in[(a+b)/2, b]$).\n",
    "\n",
    "As both expressions can approximate the real value of the integrate, we can equal them, obtaining:\n",
    "\n",
    "$$\\int_a^bf(x)dx = S(a,b) - \\frac{h^5}{90}f^{(4)}(\\xi) = S\\left(a,\\frac{a+b}{2}\\right) + S\\left(\\frac{a+b}{2},b\\right) - \\frac{1}{16}\\left(\\frac{h^5}{90}\\right)f^{(4)}(\\xi)$$\n",
    "\n",
    "which leads us to a simple way to estimate the error without knowing the fourth-order derivative, i.e.\n",
    "\n",
    "$$\\frac{h^5}{90}f^{(4)}(\\xi) = \\frac{16}{15}\\left| S(a,b) - S\\left(a,\\frac{a+b}{2}\\right) - S\\left(\\frac{a+b}{2},b\\right) \\right|$$\n",
    "\n",
    "If we fix a precision $\\epsilon$, such that the obtained error for the second iteration is smaller\n",
    "\n",
    "$$\\frac{1}{16}\\frac{h^5}{90}f^{(4)}(\\xi) < \\epsilon $$\n",
    "\n",
    "it implies:\n",
    "\n",
    "$$\\left| S(a,b) - S\\left(a,\\frac{a+b}{2}\\right) - S\\left(\\frac{a+b}{2},b\\right) \\right|< 15 \\epsilon$$\n",
    "\n",
    "and \n",
    "\n",
    "$$\\left| \\int_a^bf(x) dx- S\\left(a,\\frac{a+b}{2}\\right) - S\\left(\\frac{a+b}{2},b\\right) \\right|< \\epsilon$$\n",
    "\n",
    "The second iteration is then $15$ times more precise than the first one."
   ]
  },
  {
   "cell_type": "markdown",
   "metadata": {},
   "source": [
    "## Steps Simpson's adaptive quadrature"
   ]
  },
  {
   "cell_type": "markdown",
   "metadata": {},
   "source": [
    "**1.** Give the function $f(x)$ to be integrated, the inverval $[a,b]$ and set a desired precision $\\epsilon$.\n",
    "\n",
    "**2.** Compute the next Simpsons's quadratures:\n",
    "\n",
    "$$ S(a,b),\\ S\\left(a,\\frac{a+b}{2}\\right),\\ S\\left(\\frac{a+b}{2},b\\right) $$\n",
    "\n",
    "**3.** If \n",
    "\n",
    "$$\\frac{1}{15}\\left| S(a,b) - S\\left(a,\\frac{a+b}{2}\\right) - S\\left(\\frac{a+b}{2},b\\right) \\right|<\\epsilon$$\n",
    "\n",
    "then the integration is ready and is given by:\n",
    "\n",
    "$$\\int_a^bf(x) dx \\approx S\\left(a,\\frac{a+b}{2}\\right) + S\\left(\\frac{a+b}{2},b\\right) $$\n",
    "\n",
    "within the given precision.\n",
    "\n",
    "**4.** If the previous step is not fulfilled, repeat from step **2** using as new intervals $[a,(a+b)/2]$ and $[(a+b)/2,b]$ and a new precision $\\epsilon_1 = \\epsilon/2$. Repeating until step 3 is fulfilled for all the subintervals."
   ]
  },
  {
   "cell_type": "markdown",
   "metadata": {},
   "source": [
    "## <font color='red'>     **Activity** </font>"
   ]
  },
  {
   "cell_type": "markdown",
   "metadata": {},
   "source": [
    "###Models of Universe\n",
    "\n",
    "From the Friedmann equations can be found the dynamics of the Universe, i.e., the evolution of the expansion with time that depends on the content of matter and energy of the Universe. Before introducing the general expression, there are several quatities that need to be defined. \n",
    "\n",
    "It is convenient to express the density in terms of a critical density $\\rho_c$ given by\n",
    "\n",
    "\\begin{equation}\n",
    "\\rho_c = 3H_0^2/8\\pi G\n",
    "\\end{equation}\n",
    "\n",
    "where $H_o$ is the Hubble constant. The critical density is the density needed in order the Universe to be flat. To obtained it, it is neccesary to make the curvature of the universe $\\kappa = 0$. The critical density is one value per\n",
    "time and the geometry of the universe depends on this value, or equally on $\\kappa$. For a universe with $\\kappa<0$ it would ocurre a big crunch(closed universe) and for a $\\kappa>0$ there would be an open universe.    \n",
    "\n",
    "Now, it can also be defined a density parameter, $\\Omega$, a normalized density\n",
    "\n",
    "\\begin{equation}\n",
    "\\Omega_{i,0} = \\rho_{i,0}/\\rho_{crit}\n",
    "\\end{equation}\n",
    "\n",
    "where $\\rho_{i,0}$ is the actual density($z=0$) for the component $i$. Then, it can be found the next expression \n",
    "\n",
    "\\begin{equation}\n",
    "\\frac{H^2(t)}{H_{0}^{2}} = (1-\\Omega_0)(1+z)^2 + \\Omega_{m,0}(1+z^3)+ \\Omega_{r,0}(1+z)^4 + \\Omega_{\\Lambda,0}\n",
    "\\end{equation}\n",
    "\n",
    "where $\\Omega_{m,0}$, $\\Omega_{r,0}$ and  $\\Omega_{\\Lambda,0}$ are the matter, radiation and vacuum density parameters. And $\\Omega_0$ is the total density including the vacuum energy. \n",
    "\n",
    "This expression can also be written in terms of the expansion or scale factor($a$) rather than the redshift($z$) due to the expression $1+z = 1/a$ and it can be simplified in several ways. \n",
    "\n",
    "For the next universe models, plot time($H_{0}^{-1}$ units) vs the scale factor:\n",
    "\n",
    "-Einstein-de Sitter Universe: Flat space, null vacuum energy and dominated by matter\n",
    "\n",
    "\\begin{equation}\n",
    "t = H_0^{-1} \\int_0^{a'} a^{1/2}da\n",
    "\\end{equation}\n",
    " \n",
    "-Radiation dominated universe: All other components are not contributing \n",
    "\n",
    "$$\n",
    "t = H_0^{-1} \\int_0^{a'} \\frac{a}{[\\Omega_{r,0}+a^2(1-\\Omega_{r,0})]^{1/2}}da\n",
    "$$\n",
    "\n",
    "-WMAP9 Universe \n",
    "\n",
    "\\begin{equation}\n",
    "t = H_0^{-1} \\int_0^{a'} \\left[(1-\\Omega_{0})+ \\Omega_{m,0}a^{-1} + \\Omega_{r,0}a^{-2} +\\Omega_{\\Lambda,0}a^2\\right]^{-1/2} da\n",
    "\\end{equation}\n",
    "\n",
    "\n",
    "You can take the cosmological parameters  from the link \n",
    "\n",
    "http://lambda.gsfc.nasa.gov/product/map/dr5/params/lcdm_wmap9.cfm or use these ones: $\\Omega_M$ = 0.266,\n",
    "$\\Omega_R = 8.24e-5$ and $\\Omega_L = 0.734$. \n",
    "\n",
    "Use composite simpson rule to integrate and compare it with the analitical expression in case you can get it. \n",
    "The superior limit in the integral corresponds to the actual redshift $z=0$. What is happening to our universe? \n",
    "\n"
   ]
  },
  {
   "cell_type": "markdown",
   "metadata": {},
   "source": [
    "## <font color='red'>     **Activity** </font>"
   ]
  },
  {
   "cell_type": "markdown",
   "metadata": {},
   "source": [
    "<font color='red'>   \n",
    "- Using the Simpson's adaptive quadrature determine the value of the next integral with a precision of float32.\n",
    "\n",
    "$$\\int_0^4 e^{-3x}\\sin(4x)dx$$\n"
   ]
  },
  {
   "cell_type": "markdown",
   "metadata": {},
   "source": [
    "## <font color='red'>     **Activity** </font>"
   ]
  },
  {
   "cell_type": "markdown",
   "metadata": {},
   "source": [
    "<font color='red'>   \n",
    "Fresnel integrals are commonly used in the study of light difraction at a rectangular aperture, they are given by:\n",
    "\n",
    "$$c(t) = \\int_0^t\\cos\\left(\\frac{\\pi}{2}\\omega^2\\right)d\\omega$$\n",
    "\n",
    "$$s(t) = \\int_0^t\\sin\\left(\\frac{\\pi}{2}\\omega^2\\right)d\\omega$$\n",
    "\n",
    "These integrals cannot be solved using analitical methods. Using the previous routine for adaptive quadrature, compute the integrals with a precision of $\\epsilon=10^{-4}$ for values of $t=0.1,0.2,0.3,\\cdots 1.0$. Create two arrays with those values and then make a plot of $c(t)$ vs $s(t)$. The resulting figure is called Euler spiral, that is a member of a family of curves called [Clothoid loops](http://en.wikipedia.org/wiki/Vertical_loop).\n"
   ]
  },
  {
   "cell_type": "markdown",
   "metadata": {},
   "source": [
    "- - -"
   ]
  },
  {
   "cell_type": "markdown",
   "metadata": {},
   "source": [
    "# Improper Integrals"
   ]
  },
  {
   "cell_type": "markdown",
   "metadata": {},
   "source": [
    "Although the previous integration methods can be applied in almost every situation, improper integrals pose a challenger to numerical methods as they involve indeterminations and infinite intervals. Next, we shall cover some tricks to rewrite improper integrals in terms of simple ones."
   ]
  },
  {
   "cell_type": "markdown",
   "metadata": {},
   "source": [
    "## Left endpoint singularity"
   ]
  },
  {
   "cell_type": "markdown",
   "metadata": {},
   "source": [
    "Assuming a function $f(x)$ such that it can be rewritten as\n",
    "\n",
    "$$ f(x) = \\frac{g(x)}{(x-a)^p} $$\n",
    "\n",
    "the integral over an interval $[a,b]$ converges only and only if $0<p<1$.\n",
    "\n",
    "Using Simpson's composite rule, it is possible to compute the fourth-order Taylor polynomial of the function $g(x)$ at the point $a$, obtaining\n",
    "\n",
    "$$ P_4(x) = g(a) + g^{'}(a)(x-a)+\\frac{g^{''}(a)}{2!}(x-a)^2 +\\frac{g^{''}(a)}{3!}(x-a)^3+ \\frac{g^{(4)}(a)}{4!}(x-a)^4$$\n",
    "\n",
    "The integral can be then calculated as\n",
    "\n",
    "$$\\int_a^b f(x)dx = \\int_a^b\\frac{g(x)-P_4(x)}{(x-a)^p}dx + \\int_a^b\\frac{P_4(x)}{(x-a)^p}dx$$\n",
    "\n",
    "The second term is an integral of a polynimal, which can be easily integrated using analytical methods.\n",
    "\n",
    "The first term is no longer pathologic as there is not any indetermination, and it can be determined using composite Simpson's rule"
   ]
  },
  {
   "cell_type": "markdown",
   "metadata": {},
   "source": [
    "## Right endpoint singularity"
   ]
  },
  {
   "cell_type": "markdown",
   "metadata": {},
   "source": [
    "This is the contrary case, where the indetermination is present in the extreme $b$ of the integration interval $[a,b]$. For this problem is enough to make a variable substitution\n",
    "\n",
    "$$ z=-x \\  \\ \\ \\ \\ \\  dz=-dx$$\n",
    "\n",
    "With this, the right endpoint singularity becomes a left endpoint singularity and the previous method can be directly applied."
   ]
  },
  {
   "cell_type": "markdown",
   "metadata": {},
   "source": [
    "## Infinite singularity"
   ]
  },
  {
   "cell_type": "markdown",
   "metadata": {},
   "source": [
    "Finally, infinite singularities are those where the integration domain is infinite, i.e.\n",
    "\n",
    "$$\\int_a^\\infty f(x)dx$$\n",
    "\n",
    "this type of integrals can be easily turned into a left endpoint singularity jus making the next variable substitution\n",
    "\n",
    "$$t = x^{-1}\\ \\ \\ \\ \\ dt = -x^{-2}dx$$\n",
    "\n",
    "yielding\n",
    "\n",
    "$$ \\int_a^\\infty f(x)dx = \\int_0^{1/a}t^{-2}f\\left(\\frac{1}{t}\\right)dt $$"
   ]
  },
  {
   "cell_type": "markdown",
   "metadata": {},
   "source": [
    "## <font color='red'>     **Activity** </font>"
   ]
  },
  {
   "cell_type": "markdown",
   "metadata": {},
   "source": [
    "<font color='red'>   \n",
    "Error function is a special and non-elementary function that is widely used in probability, statistics and diffussion processes.\n",
    "It is defined through the integral:\n",
    "\n",
    "$$\\mbox{erf}(x) = \\frac{2}{\\sqrt{\\pi}}\\int_0^x e^{-t^2}dt$$\n",
    "\n",
    "Using the substitution $u=t^2$ it is possible to use the previous methods for impropers integrals in order to evaluate the error function. Create a routine called `ErrorFunction` that, given a value of $x$, return the respective value of the integral.\n"
   ]
  },
  {
   "cell_type": "markdown",
   "metadata": {},
   "source": [
    "- - -"
   ]
  }
 ],
 "metadata": {
  "kernelspec": {
   "display_name": "Python 2",
   "language": "python",
   "name": "python2"
  },
  "language_info": {
   "codemirror_mode": {
    "name": "ipython",
    "version": 2
   },
   "file_extension": ".py",
   "mimetype": "text/x-python",
   "name": "python",
   "nbconvert_exporter": "python",
   "pygments_lexer": "ipython2",
   "version": "2.7.9"
  },
  "toc": {
   "colors": {
    "hover_highlight": "#DAA520",
    "running_highlight": "#FF0000",
    "selected_highlight": "#FFD700"
   },
   "moveMenuLeft": true,
   "nav_menu": {
    "height": "0px",
    "width": "0px"
   },
   "navigate_menu": true,
   "number_sections": true,
   "sideBar": true,
   "threshold": 4,
   "toc_cell": false,
   "toc_section_display": "block",
   "toc_window_display": false
  }
 },
 "nbformat": 4,
 "nbformat_minor": 1
}
