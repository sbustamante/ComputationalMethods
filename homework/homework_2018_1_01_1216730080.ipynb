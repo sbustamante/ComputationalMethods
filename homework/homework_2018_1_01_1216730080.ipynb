{
 "cells": [
  {
   "cell_type": "code",
   "execution_count": 57,
   "metadata": {
    "scrolled": true
   },
   "outputs": [
    {
     "name": "stdout",
     "output_type": "stream",
     "text": [
      "[ 0.15625]\n"
     ]
    }
   ],
   "source": [
    "#convertir un número binario a base 10.\n",
    "import numpy as np\n",
    "import math as m\n",
    "\n",
    "def num32(s):\n",
    "    #convertir la cadena en un arreglo de tipo entero\n",
    "    num=np.array(list(s))\n",
    "    binar=num.astype(int)\n",
    "    #invertir el orden\n",
    "    binar=binar[::-1]\n",
    "    #tomar los dígitos correspondientes a la fracción,el exponente y el signo\n",
    "    frac=binar[:23]\n",
    "    exp=binar[23:31]\n",
    "    sign=binar[31:32]\n",
    "    #arreglos de exponentes de dos\n",
    "    dos1=np.exp2(-np.arange(1,24))\n",
    "    dos1=dos1[::-1]\n",
    "    dos2=np.exp2(np.arange(8))\n",
    "    #calcular los elementos del número en la fórmula\n",
    "    f=1+np.dot(frac,dos1)\n",
    "    e=np.dot(exp,dos2)\n",
    "    signo=(-1)**sign\n",
    "    #aplicar la fórmula\n",
    "    num32=signo*f*np.exp2(e-127)\n",
    "    return num32\n",
    "\n",
    "print(num32('00111110001000000000000000000000'))\n",
    "\n"
   ]
  },
  {
   "cell_type": "code",
   "execution_count": null,
   "metadata": {
    "collapsed": true
   },
   "outputs": [],
   "source": []
  },
  {
   "cell_type": "code",
   "execution_count": null,
   "metadata": {
    "collapsed": true
   },
   "outputs": [],
   "source": []
  }
 ],
 "metadata": {
  "kernelspec": {
   "display_name": "Python 3",
   "language": "python",
   "name": "python3"
  },
  "language_info": {
   "codemirror_mode": {
    "name": "ipython",
    "version": 3
   },
   "file_extension": ".py",
   "mimetype": "text/x-python",
   "name": "python",
   "nbconvert_exporter": "python",
   "pygments_lexer": "ipython3",
   "version": "3.4.2"
  }
 },
 "nbformat": 4,
 "nbformat_minor": 2
}
