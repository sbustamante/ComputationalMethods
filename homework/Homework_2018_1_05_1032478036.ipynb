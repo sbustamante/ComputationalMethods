{
 "cells": [
  {
   "cell_type": "markdown",
   "metadata": {},
   "source": [
    " ## Tarea\n",
    "a) Construir una funcion que retorne $L_{0}(x),L_{1}(x)$... para reconstruir el polinomio de lagrange \n",
    "\n",
    "\\begin{equation}\n",
    "P_{n}(x)=L_{0}f(x_{0})+L_{1}f(x_{1})+...\n",
    "\\end{equation}\n",
    "\n",
    "para los puntos (3.,8.),(10.,6.5),(21.3,3.)\n",
    "\n",
    "b) Verificar que dicho polinomio es \\begin{equation} P_{n}(x)=-0.005216x^2 - 0.1465x + 8.486 \\end{equation}\n",
    "\n",
    "c) Evaluar $L_{0}(x_{0}),L_{1}f(x_{1}),L_{2}f(x_{2}),L_{i}f(x_{j})$ con i distinto de j"
   ]
  },
  {
   "cell_type": "code",
   "execution_count": 1,
   "metadata": {
    "collapsed": true
   },
   "outputs": [],
   "source": [
    "from sympy import symbols\n",
    "from sympy import Poly\n",
    "from sympy import polys\n",
    "from scipy import interpolate\n",
    "import pandas as pd\n",
    "import numpy as np"
   ]
  },
  {
   "cell_type": "markdown",
   "metadata": {},
   "source": [
    "a) Se ingresan los puntos, se establece el orden del polinomio y se define la función que calcula $L_{j}$"
   ]
  },
  {
   "cell_type": "code",
   "execution_count": 2,
   "metadata": {},
   "outputs": [],
   "source": [
    "df=pd.DataFrame({ 'x':[3,10,21.3],'y':[8.,6.5,3.]}) #se crea el dataframe con las coordenadas de los puntos dados\n",
    "\n",
    "n=2 #orden del polinomio \n",
    "\n",
    "x = symbols('x')    \n",
    "'''se define x como un símbolo y no como variable para ingresarla en la siguiente función \n",
    "sin que tome un valor específico'''\n",
    "\n",
    "#se define la función que calcula L_{j} para algún subíndice j\n",
    "\n",
    "def L(j):\n",
    "    l=1\n",
    "    for i in range(n+1): #hasta n+1 para que incluya el valor n\n",
    "        if i!=j :        #por definición, solo se agregan términos a la productoria cuando i es diferente de j\n",
    "            l*=polys.polytools.poly((x-df.x[i])/(df.x[j]-df.x[i]))  #define la productoria usando polinomios\n",
    "    return l"
   ]
  },
  {
   "cell_type": "markdown",
   "metadata": {},
   "source": [
    "Se imprime en pantalla cada $L_{j}$"
   ]
  },
  {
   "cell_type": "code",
   "execution_count": 3,
   "metadata": {},
   "outputs": [
    {
     "name": "stdout",
     "output_type": "stream",
     "text": [
      "L_0= 0.0078064012490242*x**2 - 0.244340359094457*x + 1.66276346604215\n",
      "\n",
      "L_1= -0.0126422250316056*x**2 + 0.307206068268015*x - 0.807838179519596\n",
      "\n",
      "L_2= 0.00483582378258136*x**2 - 0.0628657091735577*x + 0.145074713477441\n"
     ]
    }
   ],
   "source": [
    "print (\"L_0= {}\\n\\nL_1= {}\\n\\nL_2= {}\".format(Poly(L(0).args,x).as_expr(),Poly(L(1).args,x).as_expr(),Poly(L(2).args,x).as_expr()))"
   ]
  },
  {
   "cell_type": "markdown",
   "metadata": {},
   "source": [
    "Teniendo cada $L_{j}$ se multiplican por el correspondiente $f(x_{j})$ para reconstruir $P_{n}(x)$"
   ]
  },
  {
   "cell_type": "code",
   "execution_count": 4,
   "metadata": {},
   "outputs": [
    {
     "name": "stdout",
     "output_type": "stream",
     "text": [
      "El polinomio de Lagrange es:\n",
      "\n",
      "Pn(x)= -0.00521578136549849*x**2 - 0.146480556534234*x + 8.48638370189219\n"
     ]
    }
   ],
   "source": [
    "Pn=(L(0)*df.y[0])+(L(1)*df.y[1])+(L(2)*df.y[2])\n",
    "print(\"El polinomio de Lagrange es:\\n\\nPn(x)= {}\".format(Poly(Pn.args,x).as_expr()))"
   ]
  },
  {
   "cell_type": "markdown",
   "metadata": {},
   "source": [
    "b) Se comprueba el polinomio $P_{n}(x)$ obtenido con el que retorna la función interpolate.lagrange de Scipy"
   ]
  },
  {
   "cell_type": "code",
   "execution_count": 5,
   "metadata": {},
   "outputs": [
    {
     "name": "stdout",
     "output_type": "stream",
     "text": [
      "           2\n",
      "-0.005216 x - 0.1465 x + 8.486\n"
     ]
    }
   ],
   "source": [
    "P=interpolate.lagrange(df.x,df.y)\n",
    "print(P)"
   ]
  },
  {
   "cell_type": "markdown",
   "metadata": {},
   "source": [
    "c) Se evaluan $L_{0}(x_{0}),L_{1}f(x_{1}),L_{2}f(x_{2}),L_{i}f(x_{j})$ con i distinto de j"
   ]
  },
  {
   "cell_type": "code",
   "execution_count": 6,
   "metadata": {},
   "outputs": [
    {
     "name": "stdout",
     "output_type": "stream",
     "text": [
      "L0(x0)= 1.0  L0(x1)= 0.0  L0(x2)= 0.0\n",
      "L1(x0)= -0.0  L1(x1)= 1.0  L1(x2)= 0.0\n",
      "L2(x0)= -0.0  L2(x1)= -0.0  L2(x2)= 1.0\n"
     ]
    }
   ],
   "source": [
    "L0=[]\n",
    "L1=[]\n",
    "L2=[]\n",
    "\n",
    "'''\n",
    "se imprime el valor de cada Lj evaluado en xi , asignandole el valor correspondiente a x \n",
    "con la función subs y redondeandolo a 3 cifras con round\n",
    "'''\n",
    "\n",
    "for i in range(n+1):\n",
    "    L0.append((round(L(0).subs({x:df.x[i]}), 3)))\n",
    "    L1.append((round(L(1).subs({x:df.x[i]}), 3)))\n",
    "    L2.append((round(L(2).subs({x:df.x[i]}), 3)))\n",
    "print('L0(x0)= {}  L0(x1)= {}  L0(x2)= {}'.format(L0[0],L0[1],L0[2]))\n",
    "print('L1(x0)= {}  L1(x1)= {}  L1(x2)= {}'.format(L1[0],L1[1],L1[2]))\n",
    "print('L2(x0)= {}  L2(x1)= {}  L2(x2)= {}'.format(L2[0],L2[1],L2[2]))"
   ]
  },
  {
   "cell_type": "code",
   "execution_count": null,
   "metadata": {
    "collapsed": true
   },
   "outputs": [],
   "source": []
  }
 ],
 "metadata": {
  "kernelspec": {
   "display_name": "Python 3",
   "language": "python",
   "name": "python3"
  },
  "language_info": {
   "codemirror_mode": {
    "name": "ipython",
    "version": 3
   },
   "file_extension": ".py",
   "mimetype": "text/x-python",
   "name": "python",
   "nbconvert_exporter": "python",
   "pygments_lexer": "ipython3",
   "version": "3.4.2"
  }
 },
 "nbformat": 4,
 "nbformat_minor": 2
}
