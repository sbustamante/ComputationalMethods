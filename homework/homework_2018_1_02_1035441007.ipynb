{
 "cells": [
  {
   "cell_type": "code",
   "execution_count": 1,
   "metadata": {},
   "outputs": [],
   "source": [
    "import numpy as np\n",
    "import scipy.optimize as optimize"
   ]
  },
  {
   "cell_type": "code",
   "execution_count": 3,
   "metadata": {},
   "outputs": [],
   "source": [
    "#Redefinimos f(x)=2*x*np.cos(2*x), como f(x)=x-g(x), donde g(x)=2*x*np.cos(2*x)\n",
    "def g(x):\n",
    "    return 2*x*np.cos(2*x)\n",
    "\n",
    "def f(x):\n",
    "    return x-g(x)\n",
    "\n"
   ]
  },
  {
   "cell_type": "code",
   "execution_count": 7,
   "metadata": {},
   "outputs": [],
   "source": [
    "#Usamos el comando de Scipy optimize.fixed_point(func, x0), donde\n",
    "#func= funciòn a evaluar, en este caso, f(x) redefinida\n",
    "#x0= es el punto fijo de la función\n",
    "#Por lo visto en la gráfica de la función, tenemos como putos fijos x=0,-1,1\n",
    "\n",
    "x1=optimize.fixed_point(f,-1)\n",
    "x2=optimize.fixed_point(f,0)\n",
    "x3=optimize.fixed_point(f,1)\n"
   ]
  },
  {
   "cell_type": "code",
   "execution_count": 9,
   "metadata": {},
   "outputs": [
    {
     "name": "stdout",
     "output_type": "stream",
     "text": [
      "Las raíces de la función dada, se encuentran en x=-0.7853981633974483, x=0.0 y x=0.7853981633974483\n"
     ]
    }
   ],
   "source": [
    "print('Las raíces de la función dada, se encuentran en x={}, x={} y x={}'.format(x1,x2,x3))"
   ]
  },
  {
   "cell_type": "code",
   "execution_count": null,
   "metadata": {},
   "outputs": [],
   "source": [
    "# ELABORADO POR NATALIA ALVAREZ CC 1.035.441.007"
   ]
  }
 ],
 "metadata": {
  "kernelspec": {
   "display_name": "Python 3",
   "language": "python",
   "name": "python3"
  },
  "language_info": {
   "codemirror_mode": {
    "name": "ipython",
    "version": 3
   },
   "file_extension": ".py",
   "mimetype": "text/x-python",
   "name": "python",
   "nbconvert_exporter": "python",
   "pygments_lexer": "ipython3",
   "version": "3.5.2"
  }
 },
 "nbformat": 4,
 "nbformat_minor": 2
}
