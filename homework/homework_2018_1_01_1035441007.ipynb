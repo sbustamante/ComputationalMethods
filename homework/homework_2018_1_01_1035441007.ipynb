{
 "cells": [
  {
   "cell_type": "code",
   "execution_count": 2,
   "metadata": {},
   "outputs": [],
   "source": [
    "def Binario(bs):\n",
    "    \n",
    "    #Importamos numpy y sys\n",
    "    import numpy as np\n",
    "    import sys\n",
    "    #Verificamos que se halla ingresado un binario de 32 bits\n",
    "    if len(bs)!=32:\n",
    "        print (\"Error, el binario debe tener 32 caracteres\")\n",
    "        return False\n",
    "        sys.exit()\n",
    "    #Si la condición anterior se cumple, entonces\n",
    "    bs=bs.astype(int)\n",
    "\n",
    "    #Invertimos el arreglo así es más fácil implementar la fórmula\n",
    "    sb=bs[::-1]\n",
    "\n",
    "    #Tomamos ciertos segmentos del arreglo:\n",
    "    #s es el correspondiente al signo,\n",
    "    #e es el correspondiente al exponente,\n",
    "    #f es el correspondiente a la fracción.\n",
    "\n",
    "    s=sb[31:32]\n",
    "    f=sb[:23]\n",
    "    e=sb[23:31]\n",
    "\n",
    "    #Creamos la variable 'fe' que es la correspondiente a los i-ésimos términos\n",
    "    #y así pues hallamos el producto punto tras hallar el término 2^i\n",
    "\n",
    "    fe=np.arange(0,8,1)\n",
    "    ep = np.exp2(fe)\n",
    "\n",
    "    #'exp' es el resultado correspondiente a la sumatoria del exponente\n",
    "    exp=np.dot(e,np.exp2(fe))\n",
    "\n",
    "    #Creamos 'ff' puesto que el término de la sumatoria me decrece, lo que equivale a usar la cadena original\n",
    "    #Además es necesario crear otro arreglo que vaya desde i=1 hasta i=23 para eso creamos 'ff2'\n",
    "    #también creamos la variable 'efra' que es -ff2' aplicándole exponencial \n",
    "\n",
    "    ff=f[::-1]\n",
    "    ff2=np.arange(1,24,1)\n",
    "    efra= (np.exp2(-ff2))\n",
    "\n",
    "    #'frac' es el producto punto que equivale a la sumatoria\n",
    "    frac=np.dot(ff,efra)\n",
    "\n",
    "    #Ahora pues, llamemos 'r' el real que buscamos y apliquemos la fórmula\n",
    "    r=((-1)**s)*(1+frac)*2**(exp-127)\n",
    "    r=r[0]\n",
    "    return (r)\n"
   ]
  },
  {
   "cell_type": "code",
   "execution_count": 3,
   "metadata": {},
   "outputs": [
    {
     "name": "stdout",
     "output_type": "stream",
     "text": [
      "ingrese su binario de 32 bits  32\n",
      "Error, el binario debe tener 32 caracteres\n",
      "Su binario de 32 bits equivale al número real False\n"
     ]
    }
   ],
   "source": [
    "import numpy as np\n",
    "bs=np.array(list(input(\"ingrese su binario de 32 bits  \")))\n",
    "real=Binario(bs)\n",
    "print('Su binario de 32 bits equivale al número real {}'.format(real))\n"
   ]
  },
  {
   "cell_type": "code",
   "execution_count": 3,
   "metadata": {},
   "outputs": [],
   "source": [
    "# ELABORADO POR NATALIA ALVAREZ CC 1.035.441.007"
   ]
  }
 ],
 "metadata": {
  "kernelspec": {
   "display_name": "Python 3",
   "language": "python",
   "name": "python3"
  },
  "language_info": {
   "codemirror_mode": {
    "name": "ipython",
    "version": 3
   },
   "file_extension": ".py",
   "mimetype": "text/x-python",
   "name": "python",
   "nbconvert_exporter": "python",
   "pygments_lexer": "ipython3",
   "version": "3.5.2"
  }
 },
 "nbformat": 4,
 "nbformat_minor": 2
}
