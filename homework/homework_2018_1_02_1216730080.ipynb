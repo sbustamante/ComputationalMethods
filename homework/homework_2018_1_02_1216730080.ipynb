{
 "cells": [
  {
   "cell_type": "code",
   "execution_count": 2,
   "metadata": {
    "collapsed": true
   },
   "outputs": [],
   "source": []
  },
  {
   "cell_type": "code",
   "execution_count": 23,
   "metadata": {},
   "outputs": [
    {
     "name": "stdout",
     "output_type": "stream",
     "text": [
      "las raices son x=-0.7853981633974483 x=0.0 x=0.7853981633974483\n"
     ]
    }
   ],
   "source": [
    "import numpy as np\n",
    "from scipy import optimize \n",
    "def f(x):\n",
    "    return x**2*np.cos(2*x)\n",
    "\n",
    "def g(x):\n",
    "    return x-f(x)\n",
    "\n",
    "root1=optimize.fixed_point(g,-1.0)\n",
    "root2=optimize.fixed_point(g,0.0)\n",
    "root3=optimize.fixed_point(g,1.0)\n",
    "\n",
    "print(\"las raices son x={} x={} x={}\".format(root1,root2,root3))\n",
    "\n",
    "\n"
   ]
  },
  {
   "cell_type": "code",
   "execution_count": null,
   "metadata": {
    "collapsed": true
   },
   "outputs": [],
   "source": []
  }
 ],
 "metadata": {
  "kernelspec": {
   "display_name": "Python 3",
   "language": "python",
   "name": "python3"
  },
  "language_info": {
   "codemirror_mode": {
    "name": "ipython",
    "version": 3
   },
   "file_extension": ".py",
   "mimetype": "text/x-python",
   "name": "python",
   "nbconvert_exporter": "python",
   "pygments_lexer": "ipython3",
   "version": "3.4.2"
  }
 },
 "nbformat": 4,
 "nbformat_minor": 2
}
