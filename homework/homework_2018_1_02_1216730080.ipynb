{
 "cells": [
  {
   "cell_type": "markdown",
   "metadata": {
    "collapsed": true
   },
   "source": [
    "Encontrar las tres raices de $x^2 \\cos 2x$"
   ]
  },
  {
   "cell_type": "code",
   "execution_count": 1,
   "metadata": {},
   "outputs": [
    {
     "name": "stdout",
     "output_type": "stream",
     "text": [
      "las raices son x=-0.7853981633974483 x=0.0 x=0.7853981633974483\n"
     ]
    }
   ],
   "source": [
    "import numpy as np\n",
    "from scipy import optimize \n",
    "def f(x):\n",
    "    return x**2*np.cos(2*x)\n",
    "\n",
    "def g(x):\n",
    "    return x-f(x)\n",
    "\n",
    "root1=optimize.fixed_point(g,-1.0)\n",
    "root2=optimize.fixed_point(g,0.0)\n",
    "root3=optimize.fixed_point(g,1.0)\n",
    "\n",
    "print(\"las raices son x={} x={} x={}\".format(root1,root2,root3))"
   ]
  },
  {
   "cell_type": "code",
   "execution_count": null,
   "metadata": {
    "collapsed": true
   },
   "outputs": [],
   "source": []
  }
 ],
 "metadata": {
  "kernelspec": {
   "display_name": "Python 3",
   "language": "python",
   "name": "python3"
  },
  "language_info": {
   "codemirror_mode": {
    "name": "ipython",
    "version": 3
   },
   "file_extension": ".py",
   "mimetype": "text/x-python",
   "name": "python",
   "nbconvert_exporter": "python",
   "pygments_lexer": "ipython3",
   "version": "3.5.2"
  },
  "toc": {
   "colors": {
    "hover_highlight": "#DAA520",
    "running_highlight": "#FF0000",
    "selected_highlight": "#FFD700"
   },
   "moveMenuLeft": true,
   "nav_menu": {
    "height": "12px",
    "width": "252px"
   },
   "navigate_menu": true,
   "number_sections": true,
   "sideBar": true,
   "threshold": 4,
   "toc_cell": false,
   "toc_section_display": "block",
   "toc_window_display": false
  }
 },
 "nbformat": 4,
 "nbformat_minor": 2
}
