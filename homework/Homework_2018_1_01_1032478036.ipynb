{
 "cells": [
  {
   "cell_type": "markdown",
   "metadata": {},
   "source": [
    "## Tarea\n",
    "Escribir, utilizando funciones de numpy, un programa que tome un número en binario y devuelva el número correspondiente "
   ]
  },
  {
   "cell_type": "code",
   "execution_count": null,
   "metadata": {
    "collapsed": true
   },
   "outputs": [],
   "source": [
    "import numpy as np"
   ]
  },
  {
   "cell_type": "code",
   "execution_count": null,
   "metadata": {
    "collapsed": true
   },
   "outputs": [],
   "source": [
    "def numtoBin(BIN):\n",
    "    import sys\n",
    "    if type(BIN)!=str:\n",
    "        sys.exit('Error, debe ingresar el número como un str')\n",
    "    else:\n",
    "        binn=np.array(list(BIN)) #Convierte el str en un arreglo\n",
    "        binn=binn.astype(int) #convierte cada entrada a entero\n",
    "        inv=binn[::-1] #invierte el arreglo\n",
    "        s=inv[-1] #toma la ultima posicion\n",
    "        pot=np.arange(1,24) #crea un arreglo con numeros del 1-23\n",
    "        pot2=np.arange(0,8) #crea un arreglo con numeros del 0-8\n",
    "        r=(-1)**int(s)*(1+np.dot(np.exp2(-pot),inv[23-pot]))*2**(np.dot(inv[23+pot2],np.exp2(pot2))-127)\n",
    "        print ('El numero binario: {}, corresponde a: {}'.format(BIN,r))\n",
    "        "
   ]
  },
  {
   "cell_type": "code",
   "execution_count": null,
   "metadata": {
    "collapsed": true
   },
   "outputs": [],
   "source": [
    "numtoBin('00111110001000000000000000000000')"
   ]
  },
  {
   "cell_type": "code",
   "execution_count": null,
   "metadata": {
    "collapsed": true
   },
   "outputs": [],
   "source": [
    "def numtoBin2(BIN):\n",
    "    import sys\n",
    "    if type(BIN)!=str:\n",
    "        sys.exit('Error, debe ingresar el número como un str')\n",
    "    else:\n",
    "        binn=np.array(list(BIN)) #Convierte el str en un arreglo\n",
    "        binn=binn.astype(int) #convierte cada entrada a entero\n",
    "        inv=binn[::-1] #invierte el arreglo\n",
    "        s=inv[-1] #toma la ultima posicion\n",
    "        pot=np.arange(1,24) #crea un arreglo con numeros del 1-23\n",
    "        pot2=np.arange(0,8) #crea un arreglo con numeros del 0-8\n",
    "        frac= 1+np.sum(np.exp2(-pot)*inv[23-pot]) #crea un arreglo de potencias de 2, las multiplica por cada entrada de inv y las suma\n",
    "        exp=int(np.sum(inv[23+pot2]*np.exp2(pot2))) #toma como entero el valor de la suma de los arrglos\n",
    "        r= (-1)**int(s)*frac*2**(exp-127) #aplica la formula para recuperar el numero real\n",
    "        print ('El numero binario: {}, corresponde a: {}'.format(BIN,r))\n",
    "        "
   ]
  },
  {
   "cell_type": "code",
   "execution_count": null,
   "metadata": {
    "collapsed": true
   },
   "outputs": [],
   "source": [
    "numtoBin2('00111110001000000000000000000000')"
   ]
  }
 ],
 "metadata": {
  "kernelspec": {
   "display_name": "Python 3",
   "language": "python",
   "name": "python3"
  },
  "language_info": {
   "codemirror_mode": {
    "name": "ipython",
    "version": 3
   },
   "file_extension": ".py",
   "mimetype": "text/x-python",
   "name": "python",
   "nbconvert_exporter": "python",
   "pygments_lexer": "ipython3",
   "version": "3.4.2"
  }
 },
 "nbformat": 4,
 "nbformat_minor": 2
}
